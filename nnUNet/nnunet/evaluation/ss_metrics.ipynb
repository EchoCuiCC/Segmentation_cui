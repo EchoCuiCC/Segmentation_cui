{
 "cells": [
  {
   "cell_type": "code",
   "execution_count": 2,
   "metadata": {},
   "outputs": [
    {
     "name": "stdout",
     "output_type": "stream",
     "text": [
      "\n",
      "\n",
      "Please cite the following paper when using nnUNet:\n",
      "\n",
      "Isensee, F., Jaeger, P.F., Kohl, S.A.A. et al. \"nnU-Net: a self-configuring method for deep learning-based biomedical image segmentation.\" Nat Methods (2020). https://doi.org/10.1038/s41592-020-01008-z\n",
      "\n",
      "\n",
      "If you have questions or suggestions, feel free to open an issue at https://github.com/MIC-DKFZ/nnUNet\n",
      "\n"
     ]
    }
   ],
   "source": [
    "from nnunet.evaluation.metrics import ConfusionMatrix, ALL_METRICS\n",
    "import nibabel\n",
    "import numpy as np\n",
    "import os\n",
    "from batchgenerators.utilities.file_and_folder_operations import save_json, subfiles, join\n",
    "from tqdm import tqdm\n",
    "import surface_distance as surfdist\n",
    "import prettytable as pt\n",
    "from skimage.morphology import skeletonize, skeletonize_3d\n",
    "\n",
    "METRICS =[\n",
    "    ['Accuracy','Precision','Recall'], # 体素精度，准确度(TP + TN) / (TP + FP + FN + TN)，精确度 TP / (TP + FP)，召回率(TP / (TP + FN))\n",
    "    ['Dice','clDice'], # 相似度，骰子系数和中心线系数\n",
    "    ['Hausdorff Distance 95','Avg. Symmetric Surface Distance'] # 距离精度,hd95,assd\n",
    "] \n",
    "\n",
    "def cl_score(v, s):\n",
    "    \"\"\"[this function computes the skeleton volume overlap]\n",
    "    Args:\n",
    "        v ([bool]): [image]\n",
    "        s ([bool]): [skeleton]\n",
    "    Returns:\n",
    "        [float]: [computed skeleton volume intersection]\n",
    "    \"\"\"\n",
    "    return np.sum(v*s)/np.sum(s)\n",
    "\n",
    "\n",
    "def clDice(v_p, v_l):\n",
    "    \"\"\"[this function computes the cldice metric]\n",
    "    Args:\n",
    "        v_p ([bool]): [predicted image]\n",
    "        v_l ([bool]): [ground truth image]\n",
    "    Returns:\n",
    "        [float]: [cldice metric]\n",
    "    \"\"\"\n",
    "    if len(v_p.shape)==2:\n",
    "        tprec = cl_score(v_p,skeletonize(v_l))\n",
    "        tsens = cl_score(v_l,skeletonize(v_p))\n",
    "    elif len(v_p.shape)==3:\n",
    "        tprec = cl_score(v_p,skeletonize_3d(v_l))\n",
    "        tsens = cl_score(v_l,skeletonize_3d(v_p))\n",
    "    return 2*tprec*tsens/(tprec+tsens)\n",
    "\n",
    "def get_files_metrics(matrix,result=None):\n",
    "    surface_distances = 0\n",
    "    for item in result:\n",
    "        if result[item]==None:\n",
    "            result[item]=[]\n",
    "                \n",
    "        if item =='clDice':\n",
    "            result[item].append(clDice(matrix['data'].test,matrix['data'].reference)*100)\n",
    "            continue\n",
    "\n",
    "        if item =='Hausdorff Distance 95':\n",
    "            if surface_distances==0:\n",
    "                surface_distances = surfdist.compute_surface_distances(matrix['data'].test==1, matrix['data'].reference==1, spacing_mm=matrix['voxel_spacing'])\n",
    "            hd95 = surfdist.compute_robust_hausdorff(surface_distances, 95)\n",
    "            result[item].append(hd95)\n",
    "            continue\n",
    "\n",
    "        if item =='Avg. Symmetric Surface Distance':\n",
    "            if surface_distances==0:\n",
    "                surface_distances = surfdist.compute_surface_distances(matrix['data'].test==1, matrix['data'].reference==1, spacing_mm=matrix['voxel_spacing'])                    \n",
    "            asd = surfdist.compute_average_surface_distance(surface_distances)\n",
    "            assd = (asd[0]+asd[1])/2\n",
    "            result[item].append(assd)\n",
    "            continue\n",
    "        \n",
    "        result[item].append(ALL_METRICS[item](confusion_matrix=matrix['data'])*100)\n",
    "    return result\n",
    "\n",
    "def get_fold_result(seg_fold,label_fold,cut):\n",
    "    patients = os.listdir(seg_fold)\n",
    "    result = {}.fromkeys([item for sublist in METRICS for item in sublist])\n",
    "    matrix = []\n",
    "    for i in tqdm(patients):\n",
    "        try:\n",
    "            seg = nibabel.load(join(seg_fold,i)).get_fdata().astype(np.uint8)\n",
    "            label = nibabel.load(join(label_fold,i))\n",
    "            voxel_spacing = label.header['pixdim'][1:4]\n",
    "            label = label.get_fdata().astype(np.uint8)\n",
    "            if cut:\n",
    "                zz,_,_ = np.where(label)\n",
    "                seg = seg[np.min(zz): np.max(zz)+1]\n",
    "                label = label[np.min(zz): np.max(zz)+1]\n",
    "            matrix={'data':ConfusionMatrix(test=seg==1,reference=label==1),'voxel_spacing':voxel_spacing}\n",
    "            result = get_files_metrics(matrix,result)\n",
    "        except:\n",
    "            # print('missing '+i)\n",
    "            continue\n",
    "    return result\n",
    "\n",
    "def evaluate(seg_dir,label_dir,fold_list=[0],cut=True):\n",
    "    tb = pt.PrettyTable()\n",
    "    tb.field_names = ['Fold Name']+[item for sublist in METRICS for item in sublist]\n",
    "    results = {i:{} for i in fold_list}\n",
    "    average_result_fold = []\n",
    "    for fold in fold_list:\n",
    "        result = get_fold_result(join(seg_dir,'fold'+str(fold)),label_dir,cut)\n",
    "        result_list = []\n",
    "        item = []\n",
    "        for m in result:\n",
    "            nums = result[m]\n",
    "            result[m] = {'data':nums}\n",
    "            nums = np.array(nums)\n",
    "            result[m]['mean']=nums.mean()\n",
    "            result[m]['std']=nums.std()\n",
    "            result_list.append('{:.5f}±{:.5f}'.format(nums.mean(),nums.std()))\n",
    "            item.append(nums.mean())\n",
    "        tb.add_row(['fold'+str(fold)]+result_list)\n",
    "        average_result_fold.append(item)\n",
    "        results[fold]=result\n",
    "        del result\n",
    "\n",
    "    average_result_fold = np.stack(average_result_fold)\n",
    "    avg_mean = average_result_fold.mean(axis=0)\n",
    "    avg_std = average_result_fold.std(axis=0)\n",
    "    average_result_fold = [ '{:.5f}±{:.5f}'.format(avg_mean[i],avg_std[i]) for i in range(len(tb.field_names)-1)]\n",
    "    tb.add_row(['fold avg']+average_result_fold) \n",
    "\n",
    "    return results,tb\n",
    "\n",
    "import pandas as pd\n",
    "\n",
    "def tb_write_csv(file_name,prettyTable):\n",
    "    data = prettyTable.get_csv_string().replace(\"'\",'').split('\\r\\n')\n",
    "    data = [ i.split(',') for i in data]\n",
    "    df = pd.DataFrame(data = data[1:-1],columns=data[0])\n",
    "    df.to_csv(file_name+'.csv')\n",
    "    print('save successfully!')"
   ]
  },
  {
   "attachments": {},
   "cell_type": "markdown",
   "metadata": {},
   "source": [
    "## Vnet"
   ]
  },
  {
   "cell_type": "code",
   "execution_count": 5,
   "metadata": {},
   "outputs": [
    {
     "name": "stderr",
     "output_type": "stream",
     "text": [
      "100%|██████████| 14/14 [01:58<00:00,  8.44s/it]\n",
      "100%|██████████| 13/13 [02:11<00:00, 10.12s/it]\n",
      "100%|██████████| 13/13 [01:38<00:00,  7.59s/it]\n",
      "100%|██████████| 12/12 [01:48<00:00,  9.04s/it]"
     ]
    },
    {
     "name": "stdout",
     "output_type": "stream",
     "text": [
      "+-----------+------------------+------------------+------------------+------------------+------------------+-----------------------+---------------------------------+\n",
      "| Fold Name |     Accuracy     |    Precision     |      Recall      |       Dice       |      clDice      | Hausdorff Distance 95 | Avg. Symmetric Surface Distance |\n",
      "+-----------+------------------+------------------+------------------+------------------+------------------+-----------------------+---------------------------------+\n",
      "|   fold0   | 99.93274±0.02011 | 81.92032±5.91007 | 89.58818±5.20308 | 85.30634±3.06182 | 80.60350±5.37983 |   31.51061±18.13462   |         2.46200±1.17453         |\n",
      "|   fold1   | 99.93996±0.02483 | 82.15997±6.71644 | 90.57166±4.24231 | 85.97256±4.28722 | 79.80988±6.31804 |   25.02923±11.15151   |         2.05579±0.69323         |\n",
      "|   fold2   | 99.93735±0.02754 | 84.10374±9.68942 | 84.70249±5.72960 | 83.91515±5.65371 | 77.60292±8.74293 |   23.93268±10.46964   |         2.20678±0.79836         |\n",
      "|   fold3   | 99.93424±0.02433 | 84.17139±7.54441 | 82.36525±6.03227 | 82.94199±4.54872 | 76.56405±8.32159 |    20.33420±7.68472   |         2.01685±0.50622         |\n",
      "|  fold avg | 99.93607±0.00279 | 83.08885±1.05240 | 86.80689±3.39359 | 84.53401±1.18146 | 78.64509±1.62857 |    25.20168±4.03532   |         2.18535±0.17477         |\n",
      "+-----------+------------------+------------------+------------------+------------------+------------------+-----------------------+---------------------------------+\n",
      "save successfully!\n"
     ]
    },
    {
     "name": "stderr",
     "output_type": "stream",
     "text": [
      "\n"
     ]
    }
   ],
   "source": [
    "# seg_dir = r'/root/workspace/data/train_models/Task050/Vnet/'\n",
    "# label_dir = r'/root/workspace/work/nnUNetFrame/DATASET/nnUNet_raw/nnUNet_raw_data/Task050_pelvis/labelsTr'\n",
    "# fold_list = [0,1,2,3]\n",
    "# result,tb = evaluate(seg_dir,label_dir,fold_list,True)\n",
    "# print(tb)\n",
    "\n",
    "task_name = 'Vnet'\n",
    "seg_dir = '/root/workspace/data/train_models/Task050/'+task_name\n",
    "label_dir = '/root/workspace/work/nnUNetFrame/DATASET/nnUNet_raw/nnUNet_raw_data/Task050_pelvis/labelsTr/'\n",
    "fold_list = [0,1,2,3]\n",
    "result,tb = evaluate(seg_dir,label_dir,fold_list,True)\n",
    "print(tb)\n",
    "tb_write_csv(os.path.join(seg_dir,task_name),tb)"
   ]
  },
  {
   "attachments": {},
   "cell_type": "markdown",
   "metadata": {},
   "source": [
    "## Vnet DCRE"
   ]
  },
  {
   "cell_type": "code",
   "execution_count": 27,
   "metadata": {},
   "outputs": [
    {
     "name": "stderr",
     "output_type": "stream",
     "text": [
      "100%|██████████| 13/13 [01:55<00:00,  8.89s/it]\n",
      "100%|██████████| 13/13 [02:10<00:00, 10.00s/it]\n",
      "100%|██████████| 13/13 [01:40<00:00,  7.72s/it]\n",
      "100%|██████████| 12/12 [01:38<00:00,  8.24s/it]"
     ]
    },
    {
     "name": "stdout",
     "output_type": "stream",
     "text": [
      "+-----------+------------------+------------------+------------------+------------------+------------------+-----------------------+---------------------------------+\n",
      "| Fold Name |     Accuracy     |    Precision     |      Recall      |       Dice       |      clDice      | Hausdorff Distance 95 | Avg. Symmetric Surface Distance |\n",
      "+-----------+------------------+------------------+------------------+------------------+------------------+-----------------------+---------------------------------+\n",
      "|   fold0   | 99.94291±0.01596 | 85.93318±4.81498 | 88.82467±5.46995 | 87.12079±2.63462 | 85.76224±2.75972 |   12.25242±11.73230   |         1.28288±0.62752         |\n",
      "|   fold1   | 99.94365±0.02333 | 82.96453±6.66665 | 91.43406±4.29787 | 86.79625±4.14332 | 82.98652±5.35917 |    14.48068±8.81843   |         1.32135±0.56852         |\n",
      "|   fold2   | 99.94558±0.02180 | 87.66045±7.57336 | 83.93372±5.65774 | 85.51419±5.11397 | 83.28380±6.90577 |   15.70664±12.24221   |         1.43840±0.63770         |\n",
      "|   fold3   | 99.94045±0.02170 | 85.73420±6.62785 | 83.63536±5.72592 | 84.44469±4.38422 | 82.54170±9.63700 |   16.58321±12.23831   |         1.48022±0.75906         |\n",
      "|  fold avg | 99.94315±0.00184 | 85.57309±1.68206 | 86.95695±3.30552 | 85.96898±1.06552 | 83.64356±1.25140 |    14.75574±1.62682   |         1.38071±0.08112         |\n",
      "+-----------+------------------+------------------+------------------+------------------+------------------+-----------------------+---------------------------------+\n",
      "save successfully!\n"
     ]
    },
    {
     "name": "stderr",
     "output_type": "stream",
     "text": [
      "\n"
     ]
    }
   ],
   "source": [
    "task_name = 'vnet_dcre'\n",
    "seg_dir = '/root/workspace/data/train_models/Task050/'+task_name\n",
    "label_dir = '/root/workspace/work/nnUNetFrame/DATASET/nnUNet_raw/nnUNet_raw_data/Task050_pelvis/labelsTr/'\n",
    "fold_list = [0,1,2,3]\n",
    "result,tb = evaluate(seg_dir,label_dir,fold_list,True)\n",
    "print(tb)\n",
    "tb_write_csv(os.path.join(seg_dir,task_name),tb)"
   ]
  },
  {
   "attachments": {},
   "cell_type": "markdown",
   "metadata": {},
   "source": [
    "## MedNet"
   ]
  },
  {
   "cell_type": "code",
   "execution_count": 6,
   "metadata": {},
   "outputs": [
    {
     "name": "stderr",
     "output_type": "stream",
     "text": [
      "100%|██████████| 14/14 [01:42<00:00,  7.31s/it]\n",
      "100%|██████████| 14/14 [01:55<00:00,  8.23s/it]\n",
      "100%|██████████| 14/14 [01:31<00:00,  6.52s/it]\n",
      "100%|██████████| 13/13 [01:26<00:00,  6.69s/it]"
     ]
    },
    {
     "name": "stdout",
     "output_type": "stream",
     "text": [
      "+-----------+------------------+------------------+------------------+------------------+------------------+-----------------------+---------------------------------+\n",
      "| Fold Name |     Accuracy     |    Precision     |      Recall      |       Dice       |      clDice      | Hausdorff Distance 95 | Avg. Symmetric Surface Distance |\n",
      "+-----------+------------------+------------------+------------------+------------------+------------------+-----------------------+---------------------------------+\n",
      "|   fold0   | 99.93907±0.01421 | 89.15541±3.82369 | 82.13886±6.14888 | 85.29778±3.37189 | 81.66416±3.65840 |   22.39183±13.24043   |         1.61525±0.86042         |\n",
      "|   fold1   | 99.94357±0.01695 | 88.26298±5.04429 | 83.46016±6.42021 | 85.54320±3.84173 | 80.17010±5.98232 |    13.99882±5.50248   |         1.18975±0.43822         |\n",
      "|   fold2   | 99.94276±0.01255 | 91.39983±4.75910 | 77.66042±4.52339 | 83.79725±2.79280 | 79.53817±6.57237 |    17.98968±8.39081   |         1.53677±0.49541         |\n",
      "|   fold3   | 99.94113±0.01822 | 91.48838±2.84989 | 77.17940±5.50746 | 83.55002±2.78855 | 79.80264±3.31798 |    19.40992±8.01948   |         1.61421±0.54296         |\n",
      "|  fold avg | 99.94163±0.00172 | 90.07665±1.40373 | 80.10971±2.73535 | 84.54706±0.88207 | 80.29377±0.82241 |    18.44757±3.02011   |         1.48899±0.17568         |\n",
      "+-----------+------------------+------------------+------------------+------------------+------------------+-----------------------+---------------------------------+\n",
      "save successfully!\n"
     ]
    },
    {
     "name": "stderr",
     "output_type": "stream",
     "text": [
      "\n"
     ]
    }
   ],
   "source": [
    "task_name = 'MedNet'\n",
    "seg_dir = '/root/workspace/data/train_models/Task050/'+task_name\n",
    "label_dir = '/root/workspace/work/nnUNetFrame/DATASET/nnUNet_raw/nnUNet_raw_data/Task050_pelvis/labelsTr/'\n",
    "fold_list = [0,1,2,3]\n",
    "result,tb = evaluate(seg_dir,label_dir,fold_list,True)\n",
    "print(tb)\n",
    "tb_write_csv(os.path.join(seg_dir,task_name),tb)"
   ]
  },
  {
   "attachments": {},
   "cell_type": "markdown",
   "metadata": {},
   "source": [
    "## DDT"
   ]
  },
  {
   "cell_type": "code",
   "execution_count": 7,
   "metadata": {},
   "outputs": [
    {
     "name": "stderr",
     "output_type": "stream",
     "text": [
      "100%|██████████| 13/13 [01:45<00:00,  8.11s/it]\n",
      "100%|██████████| 14/14 [02:00<00:00,  8.63s/it]\n",
      "100%|██████████| 14/14 [01:31<00:00,  6.52s/it]\n",
      "100%|██████████| 13/13 [01:21<00:00,  6.30s/it]"
     ]
    },
    {
     "name": "stdout",
     "output_type": "stream",
     "text": [
      "+-----------+------------------+------------------+------------------+------------------+------------------+-----------------------+---------------------------------+\n",
      "| Fold Name |     Accuracy     |    Precision     |      Recall      |       Dice       |      clDice      | Hausdorff Distance 95 | Avg. Symmetric Surface Distance |\n",
      "+-----------+------------------+------------------+------------------+------------------+------------------+-----------------------+---------------------------------+\n",
      "|   fold0   | 99.94214±0.01891 | 91.30925±3.93650 | 81.92969±6.82058 | 86.06984±2.92684 | 83.08778±3.82634 |    11.29203±9.69580   |         1.11692±0.58383         |\n",
      "|   fold1   | 99.94780±0.02251 | 90.03915±4.97721 | 84.43999±7.21307 | 86.85650±4.03478 | 82.80178±6.63534 |    6.13610±5.73514    |         0.82702±0.46865         |\n",
      "|   fold2   | 99.94705±0.01580 | 92.09707±5.27683 | 79.29854±6.08043 | 85.00949±4.25732 | 80.54767±8.40021 |    11.16049±6.79895   |         1.44508±0.60266         |\n",
      "|   fold3   | 99.93300±0.03128 | 93.53149±3.00839 | 71.52364±9.47497 | 80.70982±6.46735 | 78.16559±8.50532 |    12.54032±5.78956   |         1.33112±0.66421         |\n",
      "|  fold avg | 99.94250±0.00590 | 91.74424±1.26642 | 79.29796±4.84269 | 84.66141±2.37373 | 81.15071±1.98450 |    10.28223±2.45359   |         1.18003±0.23541         |\n",
      "+-----------+------------------+------------------+------------------+------------------+------------------+-----------------------+---------------------------------+\n",
      "save successfully!\n"
     ]
    },
    {
     "name": "stderr",
     "output_type": "stream",
     "text": [
      "\n"
     ]
    }
   ],
   "source": [
    "task_name = 'ddt'\n",
    "seg_dir = '/root/workspace/data/train_models/Task050/'+task_name\n",
    "label_dir = '/root/workspace/work/nnUNetFrame/DATASET/nnUNet_raw/nnUNet_raw_data/Task050_pelvis/labelsTr/'\n",
    "fold_list = [0,1,2,3]\n",
    "result,tb = evaluate(seg_dir,label_dir,fold_list,True)\n",
    "print(tb)\n",
    "tb_write_csv(os.path.join(seg_dir,task_name),tb)"
   ]
  },
  {
   "attachments": {},
   "cell_type": "markdown",
   "metadata": {},
   "source": [
    "## nnUnet \n",
    "\n",
    "patch_size 64 128 128\n",
    "\n",
    "epoch 100\n"
   ]
  },
  {
   "cell_type": "code",
   "execution_count": 5,
   "metadata": {},
   "outputs": [
    {
     "name": "stderr",
     "output_type": "stream",
     "text": [
      "100%|██████████| 13/13 [01:24<00:00,  6.47s/it]\n",
      "100%|██████████| 13/13 [01:30<00:00,  6.95s/it]\n",
      "100%|██████████| 13/13 [01:14<00:00,  5.77s/it]\n",
      "100%|██████████| 12/12 [01:12<00:00,  6.01s/it]"
     ]
    },
    {
     "name": "stdout",
     "output_type": "stream",
     "text": [
      "save successfully!\n"
     ]
    },
    {
     "name": "stderr",
     "output_type": "stream",
     "text": [
      "\n"
     ]
    }
   ],
   "source": [
    "task_name = 'baseline_smallsize'\n",
    "seg_dir = '/root/workspace/data/INFER_DATA/Task050_pelvis/'+task_name\n",
    "label_dir = '/root/workspace/work/nnUNetFrame/DATASET/nnUNet_raw/nnUNet_raw_data/Task050_pelvis/labelsTr/'\n",
    "fold_list = [0,1,2,3]\n",
    "result,tb = evaluate(seg_dir,label_dir,fold_list,True)\n",
    "print(tb)\n",
    "tb_write_csv(os.path.join(seg_dir,task_name),tb)"
   ]
  },
  {
   "cell_type": "code",
   "execution_count": 6,
   "metadata": {},
   "outputs": [
    {
     "name": "stdout",
     "output_type": "stream",
     "text": [
      "+-----------+------------------+------------------+------------------+------------------+------------------+-----------------------+---------------------------------+\n",
      "| Fold Name |     Accuracy     |    Precision     |      Recall      |       Dice       |      clDice      | Hausdorff Distance 95 | Avg. Symmetric Surface Distance |\n",
      "+-----------+------------------+------------------+------------------+------------------+------------------+-----------------------+---------------------------------+\n",
      "|   fold0   | 99.95275±0.01903 | 91.18978±3.64452 | 87.61079±6.39653 | 89.11500±2.70940 | 88.23138±2.54854 |    5.90537±4.95436    |         0.79489±0.26279         |\n",
      "|   fold1   | 99.95516±0.01732 | 88.35883±5.88480 | 90.08528±4.69554 | 89.01734±3.39199 | 86.74286±4.97654 |    4.79245±3.98740    |         0.78941±0.38947         |\n",
      "|   fold2   | 99.95490±0.01577 | 91.39708±5.99401 | 84.94277±5.44728 | 87.80657±3.64906 | 84.81463±7.62806 |    8.93191±7.55228    |         1.11596±0.57030         |\n",
      "|   fold3   | 99.95775±0.01091 | 93.07248±3.20874 | 84.21988±5.16815 | 88.28704±2.73420 | 87.45363±4.20492 |    4.17476±2.87223    |         0.71576±0.24630         |\n",
      "|  fold avg | 99.95514±0.00177 | 91.00454±1.69296 | 86.71468±2.31989 | 88.55649±0.53836 | 86.81063±1.26694 |    5.95112±1.82929    |         0.85400±0.15443         |\n",
      "+-----------+------------------+------------------+------------------+------------------+------------------+-----------------------+---------------------------------+\n"
     ]
    }
   ],
   "source": [
    "print(tb)"
   ]
  },
  {
   "attachments": {},
   "cell_type": "markdown",
   "metadata": {},
   "source": [
    "## Dilated Centerline\n",
    "\n",
    "patch_size 64 128 128\n",
    "epoch 100\n"
   ]
  },
  {
   "cell_type": "code",
   "execution_count": 7,
   "metadata": {},
   "outputs": [
    {
     "name": "stderr",
     "output_type": "stream",
     "text": [
      "100%|██████████| 13/13 [01:22<00:00,  6.33s/it]\n",
      "100%|██████████| 13/13 [01:29<00:00,  6.86s/it]\n",
      "100%|██████████| 13/13 [01:51<00:00,  8.57s/it]\n",
      "100%|██████████| 12/12 [01:08<00:00,  5.71s/it]"
     ]
    },
    {
     "name": "stdout",
     "output_type": "stream",
     "text": [
      "+-----------+------------------+------------------+------------------+------------------+------------------+-----------------------+---------------------------------+\n",
      "| Fold Name |     Accuracy     |    Precision     |      Recall      |       Dice       |      clDice      | Hausdorff Distance 95 | Avg. Symmetric Surface Distance |\n",
      "+-----------+------------------+------------------+------------------+------------------+------------------+-----------------------+---------------------------------+\n",
      "|   fold0   | 99.95604±0.01497 | 91.53188±3.64475 | 88.46061±5.88508 | 89.76048±2.55288 | 91.19293±1.64418 |    3.29957±3.08411    |         0.62745±0.31829         |\n",
      "|   fold1   | 99.95494±0.01757 | 87.80805±6.02141 | 90.73343±4.67919 | 89.03709±3.36301 | 89.00304±5.24952 |    3.26335±3.36906    |         0.58282±0.32095         |\n",
      "|   fold2   | 99.95657±0.01241 | 92.44345±4.51126 | 84.62668±5.18534 | 88.16344±2.76077 | 87.19635±5.53726 |    6.43843±5.38541    |         0.82651±0.37684         |\n",
      "|   fold3   | 99.95942±0.01061 | 92.54684±3.06302 | 85.77302±4.71174 | 88.91722±2.51206 | 89.25872±3.82228 |    2.69852±1.94044    |         0.54832±0.24300         |\n",
      "|  fold avg | 99.95674±0.00165 | 91.08255±1.93135 | 87.39844±2.37566 | 88.96956±0.56628 | 89.16276±1.41625 |    3.92497±1.47059    |         0.64627±0.10777         |\n",
      "+-----------+------------------+------------------+------------------+------------------+------------------+-----------------------+---------------------------------+\n",
      "save successfully!\n"
     ]
    },
    {
     "name": "stderr",
     "output_type": "stream",
     "text": [
      "\n"
     ]
    }
   ],
   "source": [
    "task_name = 'DC_ss'\n",
    "seg_dir = '/root/workspace/data/INFER_DATA/Task050_pelvis/'+task_name\n",
    "label_dir = '/root/workspace/work/nnUNetFrame/DATASET/nnUNet_raw/nnUNet_raw_data/Task050_pelvis/labelsTr/'\n",
    "fold_list = [0,1,2,3]\n",
    "result,tb = evaluate(seg_dir,label_dir,fold_list,True)\n",
    "print(tb)\n",
    "tb_write_csv(os.path.join(seg_dir,task_name),tb)"
   ]
  },
  {
   "attachments": {},
   "cell_type": "markdown",
   "metadata": {},
   "source": [
    "## Dilated Centerline + Re\n",
    "\n",
    "patch_size 64 128 128\n",
    "epoch 100\n"
   ]
  },
  {
   "cell_type": "code",
   "execution_count": 8,
   "metadata": {},
   "outputs": [
    {
     "name": "stderr",
     "output_type": "stream",
     "text": [
      "100%|██████████| 13/13 [01:22<00:00,  6.35s/it]\n",
      "100%|██████████| 13/13 [01:30<00:00,  6.93s/it]\n",
      "100%|██████████| 13/13 [01:14<00:00,  5.71s/it]\n",
      "100%|██████████| 12/12 [01:10<00:00,  5.85s/it]"
     ]
    },
    {
     "name": "stdout",
     "output_type": "stream",
     "text": [
      "+-----------+------------------+------------------+------------------+------------------+------------------+-----------------------+---------------------------------+\n",
      "| Fold Name |     Accuracy     |    Precision     |      Recall      |       Dice       |      clDice      | Hausdorff Distance 95 | Avg. Symmetric Surface Distance |\n",
      "+-----------+------------------+------------------+------------------+------------------+------------------+-----------------------+---------------------------------+\n",
      "|   fold0   | 99.95409±0.01686 | 90.68908±3.72354 | 88.65992±6.12822 | 89.43342±2.64134 | 90.65393±2.06280 |    3.75589±3.00725    |         0.58854±0.21870         |\n",
      "|   fold1   | 99.95704±0.01761 | 88.28222±5.94583 | 91.37728±4.13283 | 89.61306±3.16601 | 89.82812±4.91889 |    2.68865±2.50453    |         0.53959±0.29014         |\n",
      "|   fold2   | 99.95717±0.01207 | 92.03411±4.25607 | 85.34170±5.13418 | 88.37491±2.71057 | 87.80473±5.42986 |    7.49924±7.24639    |         0.89641±0.64709         |\n",
      "|   fold3   | 99.95926±0.01008 | 93.22983±2.99379 | 84.89602±5.65067 | 88.70181±2.76739 | 89.24901±3.96773 |    3.45788±2.88241    |         0.59333±0.25551         |\n",
      "|  fold avg | 99.95689±0.00184 | 91.05881±1.83785 | 87.56873±2.63623 | 89.03080±0.50979 | 89.38395±1.03951 |    4.35042±1.85921    |         0.65447±0.14126         |\n",
      "+-----------+------------------+------------------+------------------+------------------+------------------+-----------------------+---------------------------------+\n",
      "save successfully!\n"
     ]
    },
    {
     "name": "stderr",
     "output_type": "stream",
     "text": [
      "\n"
     ]
    }
   ],
   "source": [
    "task_name = 'DCRE_ss'\n",
    "seg_dir = '/root/workspace/data/INFER_DATA/Task050_pelvis/'+task_name\n",
    "label_dir = '/root/workspace/work/nnUNetFrame/DATASET/nnUNet_raw/nnUNet_raw_data/Task050_pelvis/labelsTr/'\n",
    "fold_list = [0,1,2,3]\n",
    "result,tb = evaluate(seg_dir,label_dir,fold_list,True)\n",
    "print(tb)\n",
    "tb_write_csv(os.path.join(seg_dir,task_name),tb)"
   ]
  },
  {
   "attachments": {},
   "cell_type": "markdown",
   "metadata": {},
   "source": [
    "### Fustion trainer"
   ]
  },
  {
   "cell_type": "code",
   "execution_count": 10,
   "metadata": {},
   "outputs": [
    {
     "name": "stderr",
     "output_type": "stream",
     "text": [
      "100%|██████████| 13/13 [01:17<00:00,  5.95s/it]\n",
      "100%|██████████| 13/13 [01:24<00:00,  6.52s/it]\n",
      "100%|██████████| 13/13 [01:08<00:00,  5.31s/it]\n",
      "100%|██████████| 12/12 [01:09<00:00,  5.77s/it]"
     ]
    },
    {
     "name": "stdout",
     "output_type": "stream",
     "text": [
      "+-----------+------------------+------------------+------------------+------------------+------------------+-----------------------+---------------------------------+\n",
      "| Fold Name |     Accuracy     |    Precision     |      Recall      |       Dice       |      clDice      | Hausdorff Distance 95 | Avg. Symmetric Surface Distance |\n",
      "+-----------+------------------+------------------+------------------+------------------+------------------+-----------------------+---------------------------------+\n",
      "|   fold0   | 99.95517±0.01374 | 89.75611±3.62654 | 90.11689±5.26369 | 89.75923±2.27297 | 91.81683±1.60640 |    2.37464±1.73221    |         0.54418±0.16741         |\n",
      "|   fold1   | 99.95554±0.01767 | 87.59257±6.25944 | 91.35022±4.03724 | 89.23319±3.32321 | 89.02256±5.42966 |    2.89359±2.51394    |         0.58648±0.30925         |\n",
      "|   fold2   | 99.95762±0.01240 | 92.71089±4.24281 | 84.84047±5.28170 | 88.41650±2.88468 | 87.88923±5.30940 |    6.00143±5.78497    |         0.80735±0.41591         |\n",
      "|   fold3   | 99.95990±0.01034 | 93.19184±2.99085 | 85.35846±5.19724 | 88.96155±2.58866 | 90.05973±3.91012 |    3.45755±2.63988    |         0.55744±0.23752         |\n",
      "|  fold avg | 99.95705±0.00189 | 90.81285±2.27756 | 87.91651±2.85647 | 89.09262±0.48437 | 89.69709±1.44466 |    3.68180±1.39292    |         0.62386±0.10703         |\n",
      "+-----------+------------------+------------------+------------------+------------------+------------------+-----------------------+---------------------------------+\n",
      "save successfully!\n"
     ]
    },
    {
     "name": "stderr",
     "output_type": "stream",
     "text": [
      "\n"
     ]
    }
   ],
   "source": [
    "task_name = 'fusion_ss'\n",
    "seg_dir = '/root/workspace/data/INFER_DATA/Task050_pelvis/'+task_name\n",
    "label_dir = '/root/workspace/work/nnUNetFrame/DATASET/nnUNet_raw/nnUNet_raw_data/Task050_pelvis/labelsTr/'\n",
    "fold_list = [0,1,2,3]\n",
    "result,tb = evaluate(seg_dir,label_dir,fold_list,True)\n",
    "print(tb)\n",
    "tb_write_csv(os.path.join(seg_dir,task_name),tb)"
   ]
  },
  {
   "attachments": {},
   "cell_type": "markdown",
   "metadata": {},
   "source": [
    "### Fustion trainer + MSE"
   ]
  },
  {
   "cell_type": "code",
   "execution_count": 4,
   "metadata": {},
   "outputs": [
    {
     "name": "stderr",
     "output_type": "stream",
     "text": [
      "100%|██████████| 13/13 [01:11<00:00,  5.49s/it]\n",
      "100%|██████████| 13/13 [01:03<00:00,  4.87s/it]"
     ]
    },
    {
     "name": "stdout",
     "output_type": "stream",
     "text": [
      "+-----------+------------------+------------------+------------------+------------------+------------------+-----------------------+---------------------------------+\n",
      "| Fold Name |     Accuracy     |    Precision     |      Recall      |       Dice       |      clDice      | Hausdorff Distance 95 | Avg. Symmetric Surface Distance |\n",
      "+-----------+------------------+------------------+------------------+------------------+------------------+-----------------------+---------------------------------+\n",
      "|   fold0   | 99.95522±0.01754 | 91.33424±3.45033 | 88.62135±6.20260 | 89.72518±2.53097 | 91.52316±1.27202 |    2.41388±1.55645    |         0.51649±0.11503         |\n",
      "|   fold2   | 99.95870±0.01179 | 91.77409±4.45873 | 86.51639±5.23900 | 88.86369±2.65468 | 89.09865±4.51964 |    4.78607±4.25227    |         0.64048±0.33826         |\n",
      "|  fold avg | 99.95696±0.00174 | 91.55417±0.21992 | 87.56887±1.05248 | 89.29444±0.43074 | 90.31090±1.21225 |    3.59998±1.18609    |         0.57848±0.06200         |\n",
      "+-----------+------------------+------------------+------------------+------------------+------------------+-----------------------+---------------------------------+\n",
      "save successfully!\n"
     ]
    },
    {
     "name": "stderr",
     "output_type": "stream",
     "text": [
      "\n"
     ]
    }
   ],
   "source": [
    "task_name = 'Fusion_ss_MSE'\n",
    "seg_dir = '/root/workspace/data/INFER_DATA/Task050_pelvis/'+task_name\n",
    "label_dir = '/root/workspace/work/nnUNetFrame/DATASET/nnUNet_raw/nnUNet_raw_data/Task050_pelvis/labelsTr/'\n",
    "fold_list = [0,2]\n",
    "result,tb = evaluate(seg_dir,label_dir,fold_list,True)\n",
    "print(tb)\n",
    "tb_write_csv(os.path.join(seg_dir,task_name),tb)"
   ]
  },
  {
   "attachments": {},
   "cell_type": "markdown",
   "metadata": {},
   "source": [
    "### Fustion trainer + DAW"
   ]
  },
  {
   "cell_type": "code",
   "execution_count": 12,
   "metadata": {},
   "outputs": [
    {
     "name": "stderr",
     "output_type": "stream",
     "text": [
      "100%|██████████| 13/13 [01:18<00:00,  6.01s/it]\n",
      "100%|██████████| 13/13 [01:14<00:00,  5.73s/it]"
     ]
    },
    {
     "name": "stdout",
     "output_type": "stream",
     "text": [
      "+-----------+------------------+------------------+------------------+------------------+------------------+-----------------------+---------------------------------+\n",
      "| Fold Name |     Accuracy     |    Precision     |      Recall      |       Dice       |      clDice      | Hausdorff Distance 95 | Avg. Symmetric Surface Distance |\n",
      "+-----------+------------------+------------------+------------------+------------------+------------------+-----------------------+---------------------------------+\n",
      "|   fold0   | 99.95709±0.01156 | 91.30865±3.57885 | 89.08589±4.95739 | 90.01478±1.98583 | 90.95050±1.37277 |    4.25268±5.62055    |         0.59752±0.26847         |\n",
      "|   fold2   | 99.95834±0.01307 | 91.48893±4.92533 | 86.64791±5.14253 | 88.79850±2.98834 | 87.66855±5.64483 |    5.17852±4.26950    |         0.75394±0.41875         |\n",
      "|  fold avg | 99.95771±0.00062 | 91.39879±0.09014 | 87.86690±1.21899 | 89.40664±0.60814 | 89.30953±1.64098 |    4.71560±0.46292    |         0.67573±0.07821         |\n",
      "+-----------+------------------+------------------+------------------+------------------+------------------+-----------------------+---------------------------------+\n",
      "save successfully!\n"
     ]
    },
    {
     "name": "stderr",
     "output_type": "stream",
     "text": [
      "\n"
     ]
    }
   ],
   "source": [
    "task_name = 'Fusion_ss_DAW'\n",
    "seg_dir = '/root/workspace/data/INFER_DATA/Task050_pelvis/'+task_name\n",
    "label_dir = '/root/workspace/work/nnUNetFrame/DATASET/nnUNet_raw/nnUNet_raw_data/Task050_pelvis/labelsTr/'\n",
    "fold_list = [0,2]\n",
    "result,tb = evaluate(seg_dir,label_dir,fold_list,True)\n",
    "print(tb)\n",
    "tb_write_csv(os.path.join(seg_dir,task_name),tb)"
   ]
  },
  {
   "attachments": {},
   "cell_type": "markdown",
   "metadata": {},
   "source": [
    "## SK-Net"
   ]
  },
  {
   "cell_type": "code",
   "execution_count": 13,
   "metadata": {},
   "outputs": [
    {
     "name": "stderr",
     "output_type": "stream",
     "text": [
      "100%|██████████| 13/13 [01:26<00:00,  6.62s/it]\n",
      "100%|██████████| 13/13 [01:29<00:00,  6.85s/it]\n",
      "100%|██████████| 13/13 [01:17<00:00,  5.94s/it]\n",
      "100%|██████████| 12/12 [01:12<00:00,  6.04s/it]"
     ]
    },
    {
     "name": "stdout",
     "output_type": "stream",
     "text": [
      "+-----------+------------------+------------------+------------------+------------------+------------------+-----------------------+---------------------------------+\n",
      "| Fold Name |     Accuracy     |    Precision     |      Recall      |       Dice       |      clDice      | Hausdorff Distance 95 | Avg. Symmetric Surface Distance |\n",
      "+-----------+------------------+------------------+------------------+------------------+------------------+-----------------------+---------------------------------+\n",
      "|   fold0   | 99.94436±0.03041 | 91.10319±3.46864 | 83.97723±8.77084 | 87.02172±4.87149 | 84.59743±3.51786 |    10.19110±6.48392   |         1.23864±0.51704         |\n",
      "|   fold1   | 99.95149±0.01771 | 88.10861±5.94073 | 88.39766±5.48744 | 88.01001±3.49292 | 84.60119±4.86831 |    8.19625±4.59317    |         0.99250±0.40124         |\n",
      "|   fold2   | 99.94499±0.02109 | 88.13440±7.71886 | 83.51526±6.01317 | 85.37476±4.51091 | 81.28888±7.77319 |   26.96541±21.23548   |         2.07741±0.83191         |\n",
      "|   fold3   | 99.95174±0.01300 | 91.87847±3.53995 | 82.08406±5.16685 | 86.57946±3.15649 | 83.69223±4.42293 |    8.45419±4.84123    |         1.02283±0.30278         |\n",
      "|  fold avg | 99.94814±0.00348 | 89.80617±1.70684 | 84.49355±2.35963 | 86.74649±0.94628 | 83.54493±1.35415 |    13.45174±7.83975   |         1.33285±0.44023         |\n",
      "+-----------+------------------+------------------+------------------+------------------+------------------+-----------------------+---------------------------------+\n",
      "save successfully!\n"
     ]
    },
    {
     "name": "stderr",
     "output_type": "stream",
     "text": [
      "\n"
     ]
    }
   ],
   "source": [
    "task_name = 'sk_trainer'\n",
    "seg_dir = '/root/workspace/data/INFER_DATA/Task050_pelvis/'+task_name\n",
    "label_dir = '/root/workspace/work/nnUNetFrame/DATASET/nnUNet_raw/nnUNet_raw_data/Task050_pelvis/labelsTr/'\n",
    "fold_list = [0,1,2,3]\n",
    "result,tb = evaluate(seg_dir,label_dir,fold_list,True)\n",
    "print(tb)\n",
    "tb_write_csv(os.path.join(seg_dir,task_name),tb)"
   ]
  },
  {
   "attachments": {},
   "cell_type": "markdown",
   "metadata": {},
   "source": [
    "## fusion_ss_no_re\n",
    "\n",
    "关闭了ccp 去掉了tcl损失，只进行特征融合，融合模块只在最后一层开启，\n",
    "\n",
    "由于之前模块中看到开启re之后assd有所下降\n",
    "\n",
    "所以这里就关闭了re\n",
    "\n",
    "【结果分析】\n",
    "\n",
    "没想到从指标上来开，关闭ccp，模型效果会更好，\n",
    "\n",
    "不同于dcre和dc，fusionNet中，打开ccp反而出现了全面抑制性能的情况\n",
    "\n",
    "但是之前tcl实验中可以看到如果不打开ccp，模型结果会变得很差，模型根本无法学习到很好的效果，所以ccp在一定程度上是有效果的 但是这里为什么不生效了 很难讲\n",
    "\n",
    "所以后续会额外开一个多层开启ccp和不开启ccp的实验，可能在复杂模型下，ccp是 有效果的"
   ]
  },
  {
   "cell_type": "code",
   "execution_count": 14,
   "metadata": {},
   "outputs": [
    {
     "name": "stderr",
     "output_type": "stream",
     "text": [
      "100%|██████████| 13/13 [01:22<00:00,  6.34s/it]\n",
      "100%|██████████| 13/13 [01:29<00:00,  6.87s/it]\n",
      "100%|██████████| 13/13 [01:11<00:00,  5.53s/it]\n",
      "100%|██████████| 12/12 [01:11<00:00,  5.99s/it]"
     ]
    },
    {
     "name": "stdout",
     "output_type": "stream",
     "text": [
      "+-----------+------------------+------------------+------------------+------------------+------------------+-----------------------+---------------------------------+\n",
      "| Fold Name |     Accuracy     |    Precision     |      Recall      |       Dice       |      clDice      | Hausdorff Distance 95 | Avg. Symmetric Surface Distance |\n",
      "+-----------+------------------+------------------+------------------+------------------+------------------+-----------------------+---------------------------------+\n",
      "|   fold0   | 99.95476±0.01495 | 90.70384±3.89572 | 88.91522±5.83249 | 89.57527±2.35880 | 90.94485±1.43156 |    3.27679±2.39522    |         0.64396±0.27729         |\n",
      "|   fold1   | 99.95648±0.01777 | 88.12753±6.14421 | 91.31952±4.17854 | 89.48668±3.16009 | 90.12322±4.95814 |    2.48601±2.05365    |         0.49557±0.24737         |\n",
      "|   fold2   | 99.95759±0.01286 | 92.01219±4.91994 | 85.71054±5.13698 | 88.53662±2.87582 | 88.39286±5.15503 |    5.52191±5.32221    |         0.74759±0.36560         |\n",
      "|   fold3   | 99.95920±0.01098 | 93.18237±3.02163 | 84.97481±5.34594 | 88.74762±2.76042 | 89.94757±3.63456 |    3.19187±2.42405    |         0.53987±0.20617         |\n",
      "|  fold avg | 99.95700±0.00162 | 91.00648±1.87922 | 87.73002±2.54748 | 89.08655±0.45173 | 89.85213±0.92278 |    3.61914±1.14065    |         0.60675±0.09754         |\n",
      "+-----------+------------------+------------------+------------------+------------------+------------------+-----------------------+---------------------------------+\n",
      "save successfully!\n"
     ]
    },
    {
     "name": "stderr",
     "output_type": "stream",
     "text": [
      "\n"
     ]
    }
   ],
   "source": [
    "task_name = 'fusion_ss_no_re'\n",
    "seg_dir = '/root/workspace/data/INFER_DATA/Task050_pelvis/'+task_name\n",
    "label_dir = '/root/workspace/work/nnUNetFrame/DATASET/nnUNet_raw/nnUNet_raw_data/Task050_pelvis/labelsTr/'\n",
    "fold_list = [0,1,2,3]\n",
    "result,tb = evaluate(seg_dir,label_dir,fold_list,True)\n",
    "print(tb)\n",
    "tb_write_csv(os.path.join(seg_dir,task_name),tb)"
   ]
  },
  {
   "attachments": {},
   "cell_type": "markdown",
   "metadata": {},
   "source": [
    "## Fusion_ss_no_re_l2\n",
    "\n",
    "关闭了ccp 去掉了tcl损失，只进行特征融合，融合模块在最后两层开启，\n",
    "\n",
    "此实验持续验证ccp效果\n",
    "\n",
    "【结果分析】\n",
    "\n",
    "只能说略好一点,相比于比fusion_ss_no_re_l1来说，有一定提升"
   ]
  },
  {
   "cell_type": "code",
   "execution_count": 3,
   "metadata": {},
   "outputs": [
    {
     "name": "stderr",
     "output_type": "stream",
     "text": [
      "100%|██████████| 13/13 [01:12<00:00,  5.60s/it]\n",
      "100%|██████████| 13/13 [01:16<00:00,  5.87s/it]\n",
      "100%|██████████| 13/13 [01:02<00:00,  4.82s/it]\n",
      "100%|██████████| 12/12 [01:00<00:00,  5.06s/it]"
     ]
    },
    {
     "name": "stdout",
     "output_type": "stream",
     "text": [
      "+-----------+------------------+------------------+------------------+------------------+------------------+-----------------------+---------------------------------+\n",
      "| Fold Name |     Accuracy     |    Precision     |      Recall      |       Dice       |      clDice      | Hausdorff Distance 95 | Avg. Symmetric Surface Distance |\n",
      "+-----------+------------------+------------------+------------------+------------------+------------------+-----------------------+---------------------------------+\n",
      "|   fold0   | 99.95519±0.01622 | 90.73181±3.78899 | 89.09297±6.11969 | 89.67517±2.61468 | 91.81310±1.55411 |    2.74363±1.95754    |         0.59593±0.24886         |\n",
      "|   fold1   | 99.95533±0.01732 | 88.17993±6.02345 | 90.57325±4.28719 | 89.15476±3.10901 | 88.86526±5.21985 |    3.37831±3.01736    |         0.58824±0.29696         |\n",
      "|   fold2   | 99.95877±0.01251 | 92.08837±4.78455 | 86.13315±5.15199 | 88.81661±2.97822 | 87.95661±5.48738 |    5.38448±5.01009    |         0.74165±0.35993         |\n",
      "|   fold3   | 99.96019±0.01074 | 93.04242±2.79052 | 85.73965±5.01404 | 89.11489±2.48427 | 90.24637±3.23631 |    3.11198±2.28502    |         0.49320±0.15892         |\n",
      "|  fold avg | 99.95737±0.00217 | 91.01063±1.82895 | 87.88475±2.02221 | 89.19036±0.30891 | 89.72033±1.45759 |    3.65460±1.02385    |         0.60476±0.08879         |\n",
      "+-----------+------------------+------------------+------------------+------------------+------------------+-----------------------+---------------------------------+\n",
      "save successfully!\n"
     ]
    },
    {
     "name": "stderr",
     "output_type": "stream",
     "text": [
      "\n"
     ]
    }
   ],
   "source": [
    "task_name = 'Fusion_ss_no_re_l2'\n",
    "seg_dir = '/root/workspace/data/INFER_DATA/Task050_pelvis/'+task_name\n",
    "label_dir = '/root/workspace/work/nnUNetFrame/DATASET/nnUNet_raw/nnUNet_raw_data/Task050_pelvis/labelsTr/'\n",
    "fold_list = [0,1,2,3]\n",
    "result,tb = evaluate(seg_dir,label_dir,fold_list,True)\n",
    "print(tb)\n",
    "tb_write_csv(os.path.join(seg_dir,task_name),tb)"
   ]
  },
  {
   "attachments": {},
   "cell_type": "markdown",
   "metadata": {},
   "source": [
    "## Branch l2"
   ]
  },
  {
   "cell_type": "code",
   "execution_count": 29,
   "metadata": {},
   "outputs": [
    {
     "name": "stderr",
     "output_type": "stream",
     "text": [
      "100%|██████████| 13/13 [01:22<00:00,  6.32s/it]\n",
      "100%|██████████| 13/13 [01:34<00:00,  7.27s/it]\n",
      "100%|██████████| 13/13 [01:13<00:00,  5.62s/it]\n",
      "100%|██████████| 12/12 [01:10<00:00,  5.88s/it]"
     ]
    },
    {
     "name": "stdout",
     "output_type": "stream",
     "text": [
      "+-----------+------------------+------------------+------------------+------------------+------------------+-----------------------+---------------------------------+\n",
      "| Fold Name |     Accuracy     |    Precision     |      Recall      |       Dice       |      clDice      | Hausdorff Distance 95 | Avg. Symmetric Surface Distance |\n",
      "+-----------+------------------+------------------+------------------+------------------+------------------+-----------------------+---------------------------------+\n",
      "|   fold0   | 99.95641±0.01340 | 91.41086±3.55973 | 88.70264±5.58833 | 89.84296±2.36807 | 91.34557±1.60583 |    2.92823±2.27816    |         0.54969±0.19591         |\n",
      "|   fold1   | 99.95554±0.01784 | 87.89787±6.14341 | 91.07600±4.27204 | 89.25191±3.24422 | 89.47435±4.92896 |    3.34275±3.10894    |         0.59088±0.30868         |\n",
      "|   fold2   | 99.95778±0.01349 | 91.68494±5.47958 | 86.24093±5.05302 | 88.64869±3.01635 | 88.02845±5.15595 |    4.85592±4.42624    |         0.69224±0.33220         |\n",
      "|   fold3   | 99.95916±0.00995 | 92.93955±2.87367 | 85.05282±5.31880 | 88.68569±2.71275 | 89.91490±3.56565 |    3.36123±2.45851    |         0.54343±0.17614         |\n",
      "|  fold avg | 99.95722±0.00137 | 90.98330±1.87229 | 87.76810±2.31951 | 89.10731±0.48738 | 89.69082±1.18308 |    3.62203±0.73312    |         0.59406±0.05954         |\n",
      "+-----------+------------------+------------------+------------------+------------------+------------------+-----------------------+---------------------------------+\n",
      "save successfully!\n"
     ]
    },
    {
     "name": "stderr",
     "output_type": "stream",
     "text": [
      "\n"
     ]
    }
   ],
   "source": [
    "task_name = 'Branch_ss_l2'\n",
    "seg_dir = '/root/workspace/data/INFER_DATA/Task050_pelvis/'+task_name\n",
    "label_dir = '/root/workspace/work/nnUNetFrame/DATASET/nnUNet_raw/nnUNet_raw_data/Task050_pelvis/labelsTr/'\n",
    "fold_list = [0,1,2,3]\n",
    "result,tb = evaluate(seg_dir,label_dir,fold_list,True)\n",
    "print(tb)\n",
    "tb_write_csv(os.path.join(seg_dir,task_name),tb)"
   ]
  },
  {
   "attachments": {},
   "cell_type": "markdown",
   "metadata": {},
   "source": [
    "## Fusion_ss_no_re_l3\n"
   ]
  },
  {
   "cell_type": "code",
   "execution_count": 16,
   "metadata": {},
   "outputs": [
    {
     "name": "stderr",
     "output_type": "stream",
     "text": [
      "100%|██████████| 13/13 [01:28<00:00,  6.85s/it]\n",
      "100%|██████████| 13/13 [01:40<00:00,  7.75s/it]\n",
      "100%|██████████| 13/13 [01:16<00:00,  5.89s/it]\n",
      "100%|██████████| 12/12 [01:16<00:00,  6.42s/it]"
     ]
    },
    {
     "name": "stdout",
     "output_type": "stream",
     "text": [
      "+-----------+------------------+------------------+------------------+------------------+------------------+-----------------------+---------------------------------+\n",
      "| Fold Name |     Accuracy     |    Precision     |      Recall      |       Dice       |      clDice      | Hausdorff Distance 95 | Avg. Symmetric Surface Distance |\n",
      "+-----------+------------------+------------------+------------------+------------------+------------------+-----------------------+---------------------------------+\n",
      "|   fold0   | 99.95681±0.01242 | 91.03404±3.59505 | 89.34981±5.11949 | 90.00815±2.07093 | 91.28862±1.48662 |    2.87077±2.25180    |         0.63023±0.21502         |\n",
      "|   fold1   | 99.95653±0.01653 | 88.28766±5.80164 | 91.06060±4.43739 | 89.45229±3.06162 | 90.05529±4.46511 |    2.63880±2.12912    |         0.52021±0.25855         |\n",
      "|   fold2   | 99.95917±0.01235 | 91.63775±4.84682 | 86.98796±5.14423 | 89.04079±2.78739 | 88.60356±5.18936 |    4.66241±4.43214    |         0.65670±0.32525         |\n",
      "|   fold3   | 99.95829±0.01175 | 92.82397±3.21037 | 84.78879±5.76832 | 88.46819±3.09812 | 89.35556±4.10392 |    3.45605±2.88391    |         0.57468±0.26266         |\n",
      "|  fold avg | 99.95770±0.00108 | 90.94586±1.66432 | 88.04679±2.37259 | 89.24235±0.56358 | 89.82576±0.98837 |    3.40701±0.78360    |         0.59545±0.05257         |\n",
      "+-----------+------------------+------------------+------------------+------------------+------------------+-----------------------+---------------------------------+\n",
      "save successfully!\n"
     ]
    },
    {
     "name": "stderr",
     "output_type": "stream",
     "text": [
      "\n"
     ]
    }
   ],
   "source": [
    "task_name = 'Fusion_ss_no_re_l3'\n",
    "seg_dir = '/root/workspace/data/INFER_DATA/Task050_pelvis/'+task_name\n",
    "label_dir = '/root/workspace/work/nnUNetFrame/DATASET/nnUNet_raw/nnUNet_raw_data/Task050_pelvis/labelsTr/'\n",
    "fold_list = [0,1,2,3]\n",
    "result,tb = evaluate(seg_dir,label_dir,fold_list,True)\n",
    "print(tb)\n",
    "tb_write_csv(os.path.join(seg_dir,task_name),tb)"
   ]
  },
  {
   "attachments": {},
   "cell_type": "markdown",
   "metadata": {},
   "source": [
    "## Branch l3"
   ]
  },
  {
   "cell_type": "code",
   "execution_count": 36,
   "metadata": {},
   "outputs": [
    {
     "name": "stderr",
     "output_type": "stream",
     "text": [
      "100%|██████████| 13/13 [01:25<00:00,  6.56s/it]\n",
      "100%|██████████| 13/13 [01:31<00:00,  7.03s/it]\n",
      "100%|██████████| 13/13 [01:12<00:00,  5.54s/it]\n",
      "100%|██████████| 12/12 [01:11<00:00,  6.00s/it]"
     ]
    },
    {
     "name": "stdout",
     "output_type": "stream",
     "text": [
      "+-----------+------------------+------------------+------------------+------------------+------------------+-----------------------+---------------------------------+\n",
      "| Fold Name |     Accuracy     |    Precision     |      Recall      |       Dice       |      clDice      | Hausdorff Distance 95 | Avg. Symmetric Surface Distance |\n",
      "+-----------+------------------+------------------+------------------+------------------+------------------+-----------------------+---------------------------------+\n",
      "|   fold0   | 99.95618±0.01255 | 90.50393±3.57634 | 89.59673±5.17755 | 89.87617±2.21676 | 91.80118±1.23732 |    2.44222±1.94992    |         0.50721±0.15088         |\n",
      "|   fold1   | 99.95640±0.01753 | 88.31798±6.15354 | 90.85942±4.55477 | 89.36057±3.40194 | 89.60592±4.65823 |    2.95623±2.95493    |         0.54224±0.28368         |\n",
      "|   fold2   | 99.95848±0.01257 | 92.21629±4.56390 | 85.88165±5.12722 | 88.74846±2.90551 | 87.81369±5.49260 |    5.19998±4.38971    |         0.73849±0.36424         |\n",
      "|   fold3   | 99.95902±0.01040 | 92.69001±3.26156 | 85.41521±5.28979 | 88.74945±2.59836 | 89.35560±4.16062 |    3.29024±2.46345    |         0.55100±0.21037         |\n",
      "|  fold avg | 99.95752±0.00125 | 90.93205±1.71438 | 87.93825±2.33876 | 89.18366±0.47138 | 89.64410±1.42198 |    3.47217±1.04228    |         0.58473±0.09027         |\n",
      "+-----------+------------------+------------------+------------------+------------------+------------------+-----------------------+---------------------------------+\n",
      "save successfully!\n"
     ]
    },
    {
     "name": "stderr",
     "output_type": "stream",
     "text": [
      "\n"
     ]
    }
   ],
   "source": [
    "task_name = 'Branch_ss_l3'\n",
    "seg_dir = '/root/workspace/data/INFER_DATA/Task050_pelvis/'+task_name\n",
    "label_dir = '/root/workspace/work/nnUNetFrame/DATASET/nnUNet_raw/nnUNet_raw_data/Task050_pelvis/labelsTr/'\n",
    "fold_list = [0,1,2,3]\n",
    "result,tb = evaluate(seg_dir,label_dir,fold_list,True)\n",
    "print(tb)\n",
    "tb_write_csv(os.path.join(seg_dir,task_name),tb)"
   ]
  },
  {
   "attachments": {},
   "cell_type": "markdown",
   "metadata": {},
   "source": [
    "## Fusion_ss_no_re_l4"
   ]
  },
  {
   "cell_type": "code",
   "execution_count": 19,
   "metadata": {},
   "outputs": [
    {
     "name": "stderr",
     "output_type": "stream",
     "text": [
      "100%|██████████| 13/13 [01:26<00:00,  6.64s/it]\n",
      "100%|██████████| 13/13 [01:33<00:00,  7.17s/it]\n",
      "100%|██████████| 13/13 [01:13<00:00,  5.68s/it]\n",
      "100%|██████████| 12/12 [01:15<00:00,  6.28s/it]"
     ]
    },
    {
     "name": "stdout",
     "output_type": "stream",
     "text": [
      "+-----------+------------------+------------------+------------------+------------------+------------------+-----------------------+---------------------------------+\n",
      "| Fold Name |     Accuracy     |    Precision     |      Recall      |       Dice       |      clDice      | Hausdorff Distance 95 | Avg. Symmetric Surface Distance |\n",
      "+-----------+------------------+------------------+------------------+------------------+------------------+-----------------------+---------------------------------+\n",
      "|   fold0   | 99.95568±0.01274 | 90.29493±3.94239 | 89.67020±5.34878 | 89.78731±2.29834 | 90.97232±1.74923 |    3.65937±3.88335    |         0.68199±0.34665         |\n",
      "|   fold1   | 99.95551±0.01767 | 87.35327±6.06039 | 91.73952±4.14151 | 89.29709±3.25453 | 89.45631±4.62410 |    3.29832±2.50429    |         0.60326±0.27542         |\n",
      "|   fold2   | 99.95873±0.01243 | 91.78306±4.72236 | 86.53936±5.27296 | 88.87259±2.84473 | 87.71963±5.24574 |    5.91483±4.49619    |         0.84943±0.48267         |\n",
      "|   fold3   | 99.95940±0.01111 | 92.94715±3.43256 | 85.39771±5.31643 | 88.85748±2.71805 | 89.88916±4.06444 |    3.09291±2.39098    |         0.54159±0.20474         |\n",
      "|  fold avg | 99.95733±0.00175 | 90.59460±2.09421 | 88.33670±2.51125 | 89.20362±0.38040 | 89.50936±1.17158 |    3.99135±1.12888    |         0.66907±0.11541         |\n",
      "+-----------+------------------+------------------+------------------+------------------+------------------+-----------------------+---------------------------------+\n",
      "save successfully!\n"
     ]
    },
    {
     "name": "stderr",
     "output_type": "stream",
     "text": [
      "\n"
     ]
    }
   ],
   "source": [
    "task_name = 'Fusion_ss_no_re_l4'\n",
    "seg_dir = '/root/workspace/data/INFER_DATA/Task050_pelvis/'+task_name\n",
    "label_dir = '/root/workspace/work/nnUNetFrame/DATASET/nnUNet_raw/nnUNet_raw_data/Task050_pelvis/labelsTr/'\n",
    "fold_list = [0,1,2,3]\n",
    "result,tb = evaluate(seg_dir,label_dir,fold_list,True)\n",
    "print(tb)\n",
    "tb_write_csv(os.path.join(seg_dir,task_name),tb)"
   ]
  },
  {
   "attachments": {},
   "cell_type": "markdown",
   "metadata": {},
   "source": [
    "## Branch_l4"
   ]
  },
  {
   "cell_type": "code",
   "execution_count": 32,
   "metadata": {},
   "outputs": [
    {
     "name": "stderr",
     "output_type": "stream",
     "text": [
      "100%|██████████| 13/13 [01:34<00:00,  7.24s/it]\n",
      "100%|██████████| 13/13 [01:40<00:00,  7.73s/it]\n",
      "100%|██████████| 13/13 [01:19<00:00,  6.15s/it]\n",
      "100%|██████████| 12/12 [01:15<00:00,  6.32s/it]"
     ]
    },
    {
     "name": "stdout",
     "output_type": "stream",
     "text": [
      "+-----------+------------------+------------------+------------------+------------------+------------------+-----------------------+---------------------------------+\n",
      "| Fold Name |     Accuracy     |    Precision     |      Recall      |       Dice       |      clDice      | Hausdorff Distance 95 | Avg. Symmetric Surface Distance |\n",
      "+-----------+------------------+------------------+------------------+------------------+------------------+-----------------------+---------------------------------+\n",
      "|   fold0   | 99.95568±0.01280 | 90.51472±3.89739 | 89.35078±5.35514 | 89.73533±2.28508 | 91.46822±1.57913 |    2.92818±2.27220    |         0.56859±0.23768         |\n",
      "|   fold1   | 99.95616±0.01806 | 87.74699±6.05063 | 91.62764±4.05118 | 89.45383±3.23127 | 89.88003±4.61115 |    2.70371±2.22626    |         0.52144±0.28311         |\n",
      "|   fold2   | 99.95808±0.01336 | 91.92779±5.06256 | 86.09860±5.22567 | 88.69910±3.01478 | 87.41461±5.57588 |    4.59634±3.68663    |         0.75869±0.33085         |\n",
      "|   fold3   | 99.95884±0.01138 | 92.19689±3.38389 | 85.83173±5.29422 | 88.76040±2.90641 | 89.79388±3.72895 |    3.35665±2.84730    |         0.51434±0.19261         |\n",
      "|  fold avg | 99.95719±0.00131 | 90.59660±1.76493 | 88.22719±2.40284 | 89.16216±0.44425 | 89.63919±1.44707 |    3.39622±0.73152    |         0.59077±0.09917         |\n",
      "+-----------+------------------+------------------+------------------+------------------+------------------+-----------------------+---------------------------------+\n",
      "save successfully!\n"
     ]
    },
    {
     "name": "stderr",
     "output_type": "stream",
     "text": [
      "\n"
     ]
    }
   ],
   "source": [
    "task_name = 'Branch_ss_l4'\n",
    "seg_dir = '/root/workspace/data/INFER_DATA/Task050_pelvis/'+task_name\n",
    "label_dir = '/root/workspace/work/nnUNetFrame/DATASET/nnUNet_raw/nnUNet_raw_data/Task050_pelvis/labelsTr/'\n",
    "fold_list = [0,1,2,3]\n",
    "result,tb = evaluate(seg_dir,label_dir,fold_list,True)\n",
    "print(tb)\n",
    "tb_write_csv(os.path.join(seg_dir,task_name),tb)"
   ]
  },
  {
   "attachments": {},
   "cell_type": "markdown",
   "metadata": {},
   "source": [
    "## Fusion_ss_no_re_l5"
   ]
  },
  {
   "cell_type": "code",
   "execution_count": 17,
   "metadata": {},
   "outputs": [
    {
     "name": "stderr",
     "output_type": "stream",
     "text": [
      "100%|██████████| 13/13 [01:36<00:00,  7.39s/it]"
     ]
    },
    {
     "name": "stdout",
     "output_type": "stream",
     "text": [
      "+-----------+------------------+------------------+------------------+------------------+------------------+-----------------------+---------------------------------+\n",
      "| Fold Name |     Accuracy     |    Precision     |      Recall      |       Dice       |      clDice      | Hausdorff Distance 95 | Avg. Symmetric Surface Distance |\n",
      "+-----------+------------------+------------------+------------------+------------------+------------------+-----------------------+---------------------------------+\n",
      "|   fold0   | 99.95471±0.01476 | 90.50702±3.85893 | 89.00470±5.88342 | 89.53177±2.51325 | 90.58884±1.79465 |    3.66364±3.06304    |         0.69142±0.21611         |\n",
      "|  fold avg | 99.95471±0.00000 | 90.50702±0.00000 | 89.00470±0.00000 | 89.53177±0.00000 | 90.58884±0.00000 |    3.66364±0.00000    |         0.69142±0.00000         |\n",
      "+-----------+------------------+------------------+------------------+------------------+------------------+-----------------------+---------------------------------+\n",
      "save successfully!\n"
     ]
    },
    {
     "name": "stderr",
     "output_type": "stream",
     "text": [
      "\n"
     ]
    }
   ],
   "source": [
    "task_name = 'Fusion_ss_no_re_l5'\n",
    "seg_dir = '/root/workspace/data/INFER_DATA/Task050_pelvis/'+task_name\n",
    "label_dir = '/root/workspace/work/nnUNetFrame/DATASET/nnUNet_raw/nnUNet_raw_data/Task050_pelvis/labelsTr/'\n",
    "fold_list = [0]\n",
    "result,tb = evaluate(seg_dir,label_dir,fold_list,True)\n",
    "print(tb)\n",
    "tb_write_csv(os.path.join(seg_dir,task_name),tb)"
   ]
  },
  {
   "attachments": {},
   "cell_type": "markdown",
   "metadata": {},
   "source": [
    "## Branch_l5"
   ]
  },
  {
   "cell_type": "code",
   "execution_count": 30,
   "metadata": {},
   "outputs": [
    {
     "name": "stderr",
     "output_type": "stream",
     "text": [
      "100%|██████████| 13/13 [01:11<00:00,  5.51s/it]\n",
      "100%|██████████| 13/13 [01:29<00:00,  6.87s/it]\n",
      "100%|██████████| 13/13 [01:18<00:00,  6.01s/it]\n",
      "100%|██████████| 12/12 [01:13<00:00,  6.10s/it]"
     ]
    },
    {
     "name": "stdout",
     "output_type": "stream",
     "text": [
      "+-----------+------------------+------------------+------------------+------------------+------------------+-----------------------+---------------------------------+\n",
      "| Fold Name |     Accuracy     |    Precision     |      Recall      |       Dice       |      clDice      | Hausdorff Distance 95 | Avg. Symmetric Surface Distance |\n",
      "+-----------+------------------+------------------+------------------+------------------+------------------+-----------------------+---------------------------------+\n",
      "|   fold0   | 99.95763±0.01025 | 90.80083±3.64177 | 89.78129±4.57966 | 90.14221±2.04303 | 91.25893±1.39999 |    2.89713±2.50379    |         0.54277±0.20652         |\n",
      "|   fold1   | 99.95688±0.01763 | 88.65919±5.94492 | 90.78908±4.26111 | 89.52051±3.22103 | 89.19023±5.05692 |    2.68571±2.04483    |         0.54987±0.27600         |\n",
      "|   fold2   | 99.95808±0.01339 | 91.07775±5.57424 | 87.12126±4.86695 | 88.82328±2.93885 | 87.52409±5.42708 |    4.92808±4.03289    |         0.76915±0.35696         |\n",
      "|   fold3   | 99.95827±0.01104 | 93.07771±3.28945 | 84.56668±5.85605 | 88.43881±2.94736 | 89.06421±3.71465 |    3.75662±2.81282    |         0.62695±0.22849         |\n",
      "|  fold avg | 99.95772±0.00054 | 90.90387±1.56565 | 88.06458±2.42359 | 89.23120±0.65344 | 89.25936±1.32781 |    3.56689±0.88231    |         0.62219±0.09104         |\n",
      "+-----------+------------------+------------------+------------------+------------------+------------------+-----------------------+---------------------------------+\n",
      "save successfully!\n"
     ]
    },
    {
     "name": "stderr",
     "output_type": "stream",
     "text": [
      "\n"
     ]
    }
   ],
   "source": [
    "task_name = 'Branch_ss_l5'\n",
    "seg_dir = '/root/workspace/data/INFER_DATA/Task050_pelvis/'+task_name\n",
    "label_dir = '/root/workspace/work/nnUNetFrame/DATASET/nnUNet_raw/nnUNet_raw_data/Task050_pelvis/labelsTr/'\n",
    "fold_list = [0,1,2,3]\n",
    "result,tb = evaluate(seg_dir,label_dir,fold_list,True)\n",
    "print(tb)\n",
    "tb_write_csv(os.path.join(seg_dir,task_name),tb)"
   ]
  },
  {
   "attachments": {},
   "cell_type": "markdown",
   "metadata": {},
   "source": [
    "## FuBase_ss_l3_1"
   ]
  },
  {
   "cell_type": "code",
   "execution_count": 41,
   "metadata": {},
   "outputs": [
    {
     "name": "stderr",
     "output_type": "stream",
     "text": [
      "100%|██████████| 13/13 [01:25<00:00,  6.59s/it]\n",
      "100%|██████████| 13/13 [01:28<00:00,  6.84s/it]\n",
      "100%|██████████| 13/13 [01:13<00:00,  5.65s/it]\n",
      "100%|██████████| 12/12 [01:12<00:00,  6.02s/it]"
     ]
    },
    {
     "name": "stdout",
     "output_type": "stream",
     "text": [
      "+-----------+------------------+------------------+------------------+------------------+------------------+-----------------------+---------------------------------+\n",
      "| Fold Name |     Accuracy     |    Precision     |      Recall      |       Dice       |      clDice      | Hausdorff Distance 95 | Avg. Symmetric Surface Distance |\n",
      "+-----------+------------------+------------------+------------------+------------------+------------------+-----------------------+---------------------------------+\n",
      "|   fold0   | 99.95592±0.01466 | 90.85308±3.55471 | 89.27294±5.60475 | 89.85379±2.23276 | 91.35987±1.14952 |    2.37060±1.46864    |         0.55018±0.13143         |\n",
      "|   fold1   | 99.95744±0.01700 | 88.09535±5.97991 | 91.75978±4.11844 | 89.69949±3.18612 | 90.30799±4.78338 |    2.58597±2.46854    |         0.53386±0.27711         |\n",
      "|   fold2   | 99.95889±0.01304 | 92.14467±4.96474 | 86.28406±5.12491 | 88.90828±2.94585 | 87.98386±5.13248 |    5.75077±6.61394    |         0.76114±0.39174         |\n",
      "|   fold3   | 99.95999±0.01020 | 92.41280±3.26427 | 86.20785±4.98649 | 89.06937±2.57828 | 90.06892±3.94756 |    3.10098±2.42644    |         0.53082±0.22990         |\n",
      "|  fold avg | 99.95806±0.00153 | 90.87648±1.71054 | 88.38116±2.30930 | 89.38273±0.40173 | 89.93016±1.22415 |    3.45208±1.35342    |         0.59400±0.09678         |\n",
      "+-----------+------------------+------------------+------------------+------------------+------------------+-----------------------+---------------------------------+\n",
      "save successfully!\n"
     ]
    },
    {
     "name": "stderr",
     "output_type": "stream",
     "text": [
      "\n"
     ]
    }
   ],
   "source": [
    "task_name = 'FuBase_ss_l3_1'\n",
    "seg_dir = '/root/workspace/data/INFER_DATA/Task050_pelvis/'+task_name\n",
    "label_dir = '/root/workspace/work/nnUNetFrame/DATASET/nnUNet_raw/nnUNet_raw_data/Task050_pelvis/labelsTr/'\n",
    "fold_list = [0,1,2,3]\n",
    "result,tb = evaluate(seg_dir,label_dir,fold_list,True)\n",
    "print(tb)\n",
    "tb_write_csv(os.path.join(seg_dir,task_name),tb)"
   ]
  },
  {
   "attachments": {},
   "cell_type": "markdown",
   "metadata": {},
   "source": [
    "## FuBase_ss_l3_2"
   ]
  },
  {
   "cell_type": "code",
   "execution_count": 2,
   "metadata": {},
   "outputs": [
    {
     "name": "stderr",
     "output_type": "stream",
     "text": [
      "100%|██████████| 13/13 [01:30<00:00,  6.98s/it]\n",
      "100%|██████████| 13/13 [01:37<00:00,  7.51s/it]\n",
      "100%|██████████| 13/13 [01:20<00:00,  6.20s/it]\n",
      "100%|██████████| 12/12 [01:15<00:00,  6.28s/it]"
     ]
    },
    {
     "name": "stdout",
     "output_type": "stream",
     "text": [
      "+-----------+------------------+------------------+------------------+------------------+------------------+-----------------------+---------------------------------+\n",
      "| Fold Name |     Accuracy     |    Precision     |      Recall      |       Dice       |      clDice      | Hausdorff Distance 95 | Avg. Symmetric Surface Distance |\n",
      "+-----------+------------------+------------------+------------------+------------------+------------------+-----------------------+---------------------------------+\n",
      "|   fold0   | 99.95774±0.01231 | 91.54440±3.45980 | 89.08762±5.53082 | 90.11963±2.46762 | 91.85897±1.28580 |    3.36512±3.21589    |         0.56630±0.20226         |\n",
      "|   fold1   | 99.95553±0.01709 | 88.03438±6.02116 | 90.81662±4.29269 | 89.20023±3.15079 | 89.25793±5.23430 |    2.79511±2.32223    |         0.55949±0.25638         |\n",
      "|   fold2   | 99.95829±0.01256 | 91.72301±4.85000 | 86.39406±5.25766 | 88.76137±2.82929 | 88.12972±4.97502 |    5.58381±5.46205    |         0.77013±0.40893         |\n",
      "|   fold3   | 99.96057±0.01011 | 93.08135±2.87012 | 85.87789±5.24601 | 89.19024±2.50174 | 90.48583±3.45299 |    2.79647±2.53707    |         0.48045±0.17984         |\n",
      "|  fold avg | 99.95803±0.00179 | 91.09579±1.86476 | 88.04405±2.01189 | 89.31786±0.49564 | 89.93311±1.38947 |    3.63513±1.14883    |         0.59409±0.10709         |\n",
      "+-----------+------------------+------------------+------------------+------------------+------------------+-----------------------+---------------------------------+\n",
      "save successfully!\n"
     ]
    },
    {
     "name": "stderr",
     "output_type": "stream",
     "text": [
      "\n"
     ]
    }
   ],
   "source": [
    "task_name = 'FuBase_ss_l3_2'\n",
    "seg_dir = '/root/workspace/data/INFER_DATA/Task050_pelvis/'+task_name\n",
    "label_dir = '/root/workspace/work/nnUNetFrame/DATASET/nnUNet_raw/nnUNet_raw_data/Task050_pelvis/labelsTr/'\n",
    "fold_list = [0,1,2,3]\n",
    "result,tb = evaluate(seg_dir,label_dir,fold_list,True)\n",
    "print(tb)\n",
    "tb_write_csv(os.path.join(seg_dir,task_name),tb)"
   ]
  },
  {
   "attachments": {},
   "cell_type": "markdown",
   "metadata": {},
   "source": [
    "## FuBase_ss_l3_3"
   ]
  },
  {
   "cell_type": "code",
   "execution_count": 4,
   "metadata": {},
   "outputs": [
    {
     "name": "stderr",
     "output_type": "stream",
     "text": [
      "100%|██████████| 13/13 [01:20<00:00,  6.17s/it]\n",
      "100%|██████████| 13/13 [01:24<00:00,  6.47s/it]\n",
      "100%|██████████| 13/13 [01:11<00:00,  5.47s/it]\n",
      "100%|██████████| 12/12 [01:07<00:00,  5.60s/it]"
     ]
    },
    {
     "name": "stdout",
     "output_type": "stream",
     "text": [
      "+-----------+------------------+------------------+------------------+------------------+------------------+-----------------------+---------------------------------+\n",
      "| Fold Name |     Accuracy     |    Precision     |      Recall      |       Dice       |      clDice      | Hausdorff Distance 95 | Avg. Symmetric Surface Distance |\n",
      "+-----------+------------------+------------------+------------------+------------------+------------------+-----------------------+---------------------------------+\n",
      "|   fold0   | 99.95727±0.01122 | 91.39175±3.54294 | 89.02750±5.09299 | 90.02577±2.15858 | 91.22971±1.68274 |    3.03561±2.38092    |         0.56895±0.17591         |\n",
      "|   fold1   | 99.95672±0.01690 | 88.63608±5.91812 | 90.77643±3.95902 | 89.50313±2.96915 | 89.52985±4.81119 |    3.20756±2.73776    |         0.59436±0.34121         |\n",
      "|   fold2   | 99.95691±0.01303 | 91.72160±4.66503 | 85.65043±5.42174 | 88.37185±2.92754 | 87.87342±5.39248 |    5.34899±4.64102    |         0.77410±0.38643         |\n",
      "|   fold3   | 99.95905±0.01058 | 91.92415±3.36560 | 86.15558±5.29737 | 88.80376±2.80383 | 89.49530±4.11560 |    3.42533±2.76921    |         0.59376±0.27518         |\n",
      "|  fold avg | 99.95749±0.00093 | 90.91840±1.33133 | 87.90249±2.10051 | 89.17613±0.63529 | 89.53207±1.18685 |    3.75437±0.93095    |         0.63279±0.08222         |\n",
      "+-----------+------------------+------------------+------------------+------------------+------------------+-----------------------+---------------------------------+\n",
      "save successfully!\n"
     ]
    },
    {
     "name": "stderr",
     "output_type": "stream",
     "text": [
      "\n"
     ]
    }
   ],
   "source": [
    "task_name = 'FuBase_ss_l3_3'\n",
    "seg_dir = '/root/workspace/data/INFER_DATA/Task050_pelvis/'+task_name\n",
    "label_dir = '/root/workspace/work/nnUNetFrame/DATASET/nnUNet_raw/nnUNet_raw_data/Task050_pelvis/labelsTr/'\n",
    "fold_list = [0,1,2,3]\n",
    "result,tb = evaluate(seg_dir,label_dir,fold_list,True)\n",
    "print(tb)\n",
    "tb_write_csv(os.path.join(seg_dir,task_name),tb)"
   ]
  },
  {
   "attachments": {},
   "cell_type": "markdown",
   "metadata": {},
   "source": [
    "## FuV3_ss_l3_1_02"
   ]
  },
  {
   "cell_type": "code",
   "execution_count": 5,
   "metadata": {},
   "outputs": [
    {
     "name": "stderr",
     "output_type": "stream",
     "text": [
      "100%|██████████| 13/13 [01:16<00:00,  5.90s/it]\n",
      "100%|██████████| 13/13 [01:25<00:00,  6.59s/it]"
     ]
    },
    {
     "name": "stdout",
     "output_type": "stream",
     "text": [
      "+-----------+------------------+------------------+------------------+------------------+------------------+-----------------------+---------------------------------+\n",
      "| Fold Name |     Accuracy     |    Precision     |      Recall      |       Dice       |      clDice      | Hausdorff Distance 95 | Avg. Symmetric Surface Distance |\n",
      "+-----------+------------------+------------------+------------------+------------------+------------------+-----------------------+---------------------------------+\n",
      "|   fold0   | 99.95759±0.01311 | 91.48748±3.54226 | 89.19325±5.42272 | 90.14298±2.32419 | 92.02182±1.41778 |    2.41382±1.73005    |         0.46326±0.11676         |\n",
      "|   fold1   | 99.95673±0.01680 | 88.35955±5.83600 | 91.15455±4.37066 | 89.52961±2.97576 | 89.80629±5.17325 |    2.99369±2.87662    |         0.53361±0.28822         |\n",
      "|  fold avg | 99.95716±0.00043 | 89.92351±1.56396 | 90.17390±0.98065 | 89.83629±0.30669 | 90.91406±1.10776 |    2.70375±0.28994    |         0.49843±0.03518         |\n",
      "+-----------+------------------+------------------+------------------+------------------+------------------+-----------------------+---------------------------------+\n",
      "save successfully!\n"
     ]
    },
    {
     "name": "stderr",
     "output_type": "stream",
     "text": [
      "\n"
     ]
    }
   ],
   "source": [
    "task_name = 'FuV3_ss_l3_1_02'\n",
    "seg_dir = '/root/workspace/data/INFER_DATA/Task050_pelvis/'+task_name\n",
    "label_dir = '/root/workspace/work/nnUNetFrame/DATASET/nnUNet_raw/nnUNet_raw_data/Task050_pelvis/labelsTr/'\n",
    "fold_list = [0,1]\n",
    "result,tb = evaluate(seg_dir,label_dir,fold_list,True)\n",
    "print(tb)\n",
    "tb_write_csv(os.path.join(seg_dir,task_name),tb)"
   ]
  },
  {
   "attachments": {},
   "cell_type": "markdown",
   "metadata": {},
   "source": [
    "## FuV3_ss_l3_1_01"
   ]
  },
  {
   "cell_type": "code",
   "execution_count": 8,
   "metadata": {},
   "outputs": [
    {
     "name": "stderr",
     "output_type": "stream",
     "text": [
      "100%|██████████| 13/13 [01:26<00:00,  6.67s/it]\n",
      "100%|██████████| 13/13 [01:37<00:00,  7.46s/it]\n",
      "100%|██████████| 13/13 [01:16<00:00,  5.88s/it]\n",
      "100%|██████████| 12/12 [01:15<00:00,  6.29s/it]"
     ]
    },
    {
     "name": "stdout",
     "output_type": "stream",
     "text": [
      "+-----------+------------------+------------------+------------------+------------------+------------------+-----------------------+---------------------------------+\n",
      "| Fold Name |     Accuracy     |    Precision     |      Recall      |       Dice       |      clDice      | Hausdorff Distance 95 | Avg. Symmetric Surface Distance |\n",
      "+-----------+------------------+------------------+------------------+------------------+------------------+-----------------------+---------------------------------+\n",
      "|   fold0   | 99.95781±0.01132 | 91.41711±3.48497 | 89.29947±5.04937 | 90.17821±2.07088 | 91.79066±1.28987 |    2.49477±1.70790    |         0.47864±0.11913         |\n",
      "|   fold1   | 99.95667±0.01714 | 88.45872±5.96472 | 90.91057±4.26327 | 89.46803±3.13342 | 89.89562±5.01332 |    2.72820±2.42240    |         0.49386±0.27685         |\n",
      "|   fold2   | 99.95839±0.01190 | 92.17824±4.48520 | 85.92648±5.06886 | 88.74627±2.62692 | 88.34224±5.02444 |    6.16257±6.52172    |         0.74723±0.42181         |\n",
      "|   fold3   | 99.95984±0.01063 | 93.14390±2.88437 | 85.35101±5.32174 | 88.93715±2.69167 | 90.19285±4.00245 |    3.14570±2.70597    |         0.52129±0.22359         |\n",
      "|  fold avg | 99.95818±0.00114 | 91.29949±1.75056 | 87.87188±2.31360 | 89.33242±0.55533 | 90.05534±1.22377 |    3.63281±1.47906    |         0.56025±0.10903         |\n",
      "+-----------+------------------+------------------+------------------+------------------+------------------+-----------------------+---------------------------------+\n",
      "save successfully!\n"
     ]
    },
    {
     "name": "stderr",
     "output_type": "stream",
     "text": [
      "\n"
     ]
    }
   ],
   "source": [
    "task_name = 'FuV3_ss_l3_1_01'\n",
    "seg_dir = '/root/workspace/data/INFER_DATA/Task050_pelvis/'+task_name\n",
    "label_dir = '/root/workspace/work/nnUNetFrame/DATASET/nnUNet_raw/nnUNet_raw_data/Task050_pelvis/labelsTr/'\n",
    "fold_list = [0,1,2,3]\n",
    "result,tb = evaluate(seg_dir,label_dir,fold_list,True)\n",
    "print(tb)\n",
    "tb_write_csv(os.path.join(seg_dir,task_name),tb)"
   ]
  },
  {
   "cell_type": "code",
   "execution_count": 9,
   "metadata": {},
   "outputs": [
    {
     "name": "stderr",
     "output_type": "stream",
     "text": [
      "100%|██████████| 13/13 [01:22<00:00,  6.34s/it]\n",
      "100%|██████████| 13/13 [01:28<00:00,  6.82s/it]\n",
      "100%|██████████| 13/13 [01:12<00:00,  5.60s/it]\n",
      "100%|██████████| 12/12 [01:09<00:00,  5.83s/it]"
     ]
    },
    {
     "name": "stdout",
     "output_type": "stream",
     "text": [
      "+-----------+------------------+------------------+------------------+------------------+------------------+-----------------------+---------------------------------+\n",
      "| Fold Name |     Accuracy     |    Precision     |      Recall      |       Dice       |      clDice      | Hausdorff Distance 95 | Avg. Symmetric Surface Distance |\n",
      "+-----------+------------------+------------------+------------------+------------------+------------------+-----------------------+---------------------------------+\n",
      "|   fold0   | 99.95581±0.01315 | 90.60711±3.71537 | 89.35514±5.74955 | 89.76910±2.39853 | 91.58954±1.40818 |    3.39182±3.55552    |         0.55897±0.21856         |\n",
      "|   fold1   | 99.95627±0.01711 | 88.21136±5.86638 | 90.99043±4.36361 | 89.38365±3.15655 | 89.43403±5.49016 |    3.01694±2.79570    |         0.54827±0.32369         |\n",
      "|   fold2   | 99.95950±0.01187 | 92.33516±4.12713 | 86.26344±5.01963 | 89.02129±2.69757 | 87.99076±5.14897 |    5.49078±5.52584    |         0.78040±0.37531         |\n",
      "|   fold3   | 99.95980±0.01067 | 92.73301±3.03551 | 85.74254±5.51971 | 88.95172±2.85251 | 90.37449±3.76205 |    3.16217±2.66333    |         0.49891±0.21466         |\n",
      "|  fold avg | 99.95785±0.00182 | 90.97166±1.78281 | 88.08789±2.17140 | 89.28144±0.32583 | 89.84721±1.31633 |    3.76543±1.00506    |         0.59664±0.10849         |\n",
      "+-----------+------------------+------------------+------------------+------------------+------------------+-----------------------+---------------------------------+\n",
      "save successfully!\n"
     ]
    },
    {
     "name": "stderr",
     "output_type": "stream",
     "text": [
      "\n"
     ]
    }
   ],
   "source": [
    "task_name = 'FuV3_ss_l3_1_03'\n",
    "seg_dir = '/root/workspace/data/INFER_DATA/Task050_pelvis/'+task_name\n",
    "label_dir = '/root/workspace/work/nnUNetFrame/DATASET/nnUNet_raw/nnUNet_raw_data/Task050_pelvis/labelsTr/'\n",
    "fold_list = [0,1,2,3]\n",
    "result,tb = evaluate(seg_dir,label_dir,fold_list,True)\n",
    "print(tb)\n",
    "tb_write_csv(os.path.join(seg_dir,task_name),tb)"
   ]
  },
  {
   "attachments": {},
   "cell_type": "markdown",
   "metadata": {},
   "source": [
    "## Branch_ss_l1"
   ]
  },
  {
   "cell_type": "code",
   "execution_count": 42,
   "metadata": {},
   "outputs": [
    {
     "name": "stderr",
     "output_type": "stream",
     "text": [
      "100%|██████████| 13/13 [01:22<00:00,  6.36s/it]\n",
      "100%|██████████| 13/13 [01:31<00:00,  7.04s/it]\n",
      "100%|██████████| 13/13 [01:14<00:00,  5.71s/it]\n",
      "100%|██████████| 12/12 [01:10<00:00,  5.90s/it]"
     ]
    },
    {
     "name": "stdout",
     "output_type": "stream",
     "text": [
      "+-----------+------------------+------------------+------------------+------------------+------------------+-----------------------+---------------------------------+\n",
      "| Fold Name |     Accuracy     |    Precision     |      Recall      |       Dice       |      clDice      | Hausdorff Distance 95 | Avg. Symmetric Surface Distance |\n",
      "+-----------+------------------+------------------+------------------+------------------+------------------+-----------------------+---------------------------------+\n",
      "|   fold0   | 99.95712±0.01007 | 90.62763±3.76250 | 89.73555±4.76142 | 90.02103±2.11939 | 91.63734±1.11849 |    2.65657±2.22468    |         0.54706±0.19494         |\n",
      "|   fold1   | 99.95381±0.01819 | 86.85088±6.29197 | 91.50817±4.16140 | 88.90900±3.30588 | 88.81679±4.75140 |    4.17942±4.06562    |         0.63818±0.36943         |\n",
      "|   fold2   | 99.95872±0.01221 | 92.69928±3.94541 | 85.44484±5.32497 | 88.74328±2.80225 | 87.70224±4.97878 |    5.30999±5.45196    |         0.74256±0.36230         |\n",
      "|   fold3   | 99.95978±0.01064 | 92.47054±3.04654 | 86.11721±5.05608 | 89.04661±2.50854 | 90.07848±3.71869 |    2.84069±1.84391    |         0.47351±0.15835         |\n",
      "|  fold avg | 99.95736±0.00226 | 90.66209±2.34239 | 88.20144±2.51151 | 89.17998±0.49731 | 89.55871±1.46525 |    3.74667±1.07708    |         0.60033±0.10072         |\n",
      "+-----------+------------------+------------------+------------------+------------------+------------------+-----------------------+---------------------------------+\n",
      "save successfully!\n"
     ]
    },
    {
     "name": "stderr",
     "output_type": "stream",
     "text": [
      "\n"
     ]
    }
   ],
   "source": [
    "task_name = 'Branch_ss_l1'\n",
    "seg_dir = '/root/workspace/data/INFER_DATA/Task050_pelvis/'+task_name\n",
    "label_dir = '/root/workspace/work/nnUNetFrame/DATASET/nnUNet_raw/nnUNet_raw_data/Task050_pelvis/labelsTr/'\n",
    "fold_list = [0,1,2,3]\n",
    "result,tb = evaluate(seg_dir,label_dir,fold_list,True)\n",
    "print(tb)\n",
    "tb_write_csv(os.path.join(seg_dir,task_name),tb)"
   ]
  },
  {
   "attachments": {},
   "cell_type": "markdown",
   "metadata": {},
   "source": [
    "# Portalvein\n",
    "\n",
    "## DDT"
   ]
  },
  {
   "cell_type": "code",
   "execution_count": 3,
   "metadata": {},
   "outputs": [
    {
     "name": "stderr",
     "output_type": "stream",
     "text": [
      "100%|██████████| 6/6 [00:55<00:00,  9.29s/it]\n",
      "100%|██████████| 6/6 [00:45<00:00,  7.60s/it]\n",
      "100%|██████████| 6/6 [00:33<00:00,  5.58s/it]\n",
      "100%|██████████| 6/6 [00:34<00:00,  5.76s/it]"
     ]
    },
    {
     "name": "stdout",
     "output_type": "stream",
     "text": [
      "+-----------+------------------+-------------------+-------------------+-------------------+-------------------+-----------------------+---------------------------------+\n",
      "| Fold Name |     Accuracy     |     Precision     |       Recall      |        Dice       |       clDice      | Hausdorff Distance 95 | Avg. Symmetric Surface Distance |\n",
      "+-----------+------------------+-------------------+-------------------+-------------------+-------------------+-----------------------+---------------------------------+\n",
      "|   fold0   | 99.83904±0.04113 | 79.92931±10.18461 | 63.31632±10.54565 |  69.20346±3.98434 |  59.53358±8.89987 |    20.81691±2.15913   |         3.58000±0.56719         |\n",
      "|   fold1   | 99.82042±0.07250 | 74.18183±14.34894 | 37.11136±15.83889 | 46.13728±15.24350 | 32.05689±13.99970 |   46.51844±14.62569   |         10.74504±4.26026        |\n",
      "|   fold2   | 99.75534±0.08134 | 73.29832±18.69438 | 42.01023±14.18499 | 52.61976±15.08614 | 38.70078±17.61515 |   41.51902±18.34515   |        11.48256±10.54595        |\n",
      "|   fold3   | 99.75125±0.06690 | 69.27374±19.39372 |  59.58771±8.16007 |  61.55467±5.35454 |  51.35678±2.52105 |   37.61845±14.22468   |         5.82881±1.99627         |\n",
      "|  fold avg | 99.79151±0.03881 |  74.17080±3.80470 | 50.50640±11.15993 |  57.37879±8.75044 | 45.41201±10.70232 |    36.61821±9.65290   |         7.90910±3.31214         |\n",
      "+-----------+------------------+-------------------+-------------------+-------------------+-------------------+-----------------------+---------------------------------+\n",
      "save successfully!\n"
     ]
    },
    {
     "name": "stderr",
     "output_type": "stream",
     "text": [
      "\n"
     ]
    }
   ],
   "source": [
    "task_name = 'ddt'\n",
    "seg_dir = '/root/workspace/data/train_models/Task002/'+task_name\n",
    "label_dir = '/root/workspace/work/nnUNetFrame/DATASET/nnUNet_raw/nnUNet_raw_data/Task002_PortalVein/labelsTr'\n",
    "fold_list = [0,1,2,3]\n",
    "result,tb = evaluate(seg_dir,label_dir,fold_list,True)\n",
    "print(tb)\n",
    "tb_write_csv(os.path.join(seg_dir,task_name),tb)"
   ]
  },
  {
   "attachments": {},
   "cell_type": "markdown",
   "metadata": {},
   "source": [
    "## Mednet"
   ]
  },
  {
   "cell_type": "code",
   "execution_count": 4,
   "metadata": {},
   "outputs": [
    {
     "name": "stderr",
     "output_type": "stream",
     "text": [
      "100%|██████████| 6/6 [00:54<00:00,  9.04s/it]\n",
      "100%|██████████| 6/6 [00:45<00:00,  7.54s/it]\n",
      "100%|██████████| 6/6 [00:35<00:00,  5.89s/it]\n",
      "100%|██████████| 6/6 [00:34<00:00,  5.73s/it]"
     ]
    },
    {
     "name": "stdout",
     "output_type": "stream",
     "text": [
      "+-----------+------------------+-------------------+-------------------+-------------------+-------------------+-----------------------+---------------------------------+\n",
      "| Fold Name |     Accuracy     |     Precision     |       Recall      |        Dice       |       clDice      | Hausdorff Distance 95 | Avg. Symmetric Surface Distance |\n",
      "+-----------+------------------+-------------------+-------------------+-------------------+-------------------+-----------------------+---------------------------------+\n",
      "|   fold0   | 99.82938±0.04086 | 77.54940±10.45624 |  61.77017±9.54672 |  67.43227±3.70596 |  59.38859±7.98126 |    19.80038±5.48077   |         3.32054±0.64317         |\n",
      "|   fold1   | 99.81398±0.07894 | 68.39502±15.55730 | 47.35101±21.19932 | 50.91379±13.77720 | 45.18426±14.57874 |   49.15993±39.53900   |         8.06077±4.84373         |\n",
      "|   fold2   | 99.77926±0.07156 | 75.12783±13.15174 | 56.01848±10.10676 |  62.74274±7.69923 | 49.66391±10.28961 |   34.85980±18.32974   |         5.92165±2.98983         |\n",
      "|   fold3   | 99.77506±0.05280 | 74.61264±18.86264 |  59.65576±8.79484 |  63.74889±4.86746 |  53.77013±3.03191 |   39.66231±12.77320   |         5.61013±1.94256         |\n",
      "|  fold avg | 99.79942±0.02296 |  73.92122±3.37774 |  56.19885±5.50696 |  61.20942±6.19524 |  52.00172±5.23536 |   35.87060±10.60963   |         5.72827±1.67996         |\n",
      "+-----------+------------------+-------------------+-------------------+-------------------+-------------------+-----------------------+---------------------------------+\n",
      "save successfully!\n"
     ]
    },
    {
     "name": "stderr",
     "output_type": "stream",
     "text": [
      "\n"
     ]
    }
   ],
   "source": [
    "task_name = 'mednet'\n",
    "seg_dir = '/root/workspace/data/train_models/Task002/'+task_name\n",
    "label_dir = '/root/workspace/work/nnUNetFrame/DATASET/nnUNet_raw/nnUNet_raw_data/Task002_PortalVein/labelsTr'\n",
    "fold_list = [0,1,2,3]\n",
    "result,tb = evaluate(seg_dir,label_dir,fold_list,True)\n",
    "print(tb)\n",
    "tb_write_csv(os.path.join(seg_dir,task_name),tb)"
   ]
  },
  {
   "attachments": {},
   "cell_type": "markdown",
   "metadata": {},
   "source": [
    "## Vnet"
   ]
  },
  {
   "cell_type": "code",
   "execution_count": 6,
   "metadata": {},
   "outputs": [
    {
     "name": "stderr",
     "output_type": "stream",
     "text": [
      "100%|██████████| 6/6 [01:20<00:00, 13.46s/it]\n",
      "100%|██████████| 6/6 [00:52<00:00,  8.75s/it]\n",
      "100%|██████████| 6/6 [00:40<00:00,  6.73s/it]\n",
      "100%|██████████| 6/6 [00:46<00:00,  7.69s/it]"
     ]
    },
    {
     "name": "stdout",
     "output_type": "stream",
     "text": [
      "+-----------+------------------+-------------------+-------------------+-------------------+-------------------+-----------------------+---------------------------------+\n",
      "| Fold Name |     Accuracy     |     Precision     |       Recall      |        Dice       |       clDice      | Hausdorff Distance 95 | Avg. Symmetric Surface Distance |\n",
      "+-----------+------------------+-------------------+-------------------+-------------------+-------------------+-----------------------+---------------------------------+\n",
      "|   fold0   | 99.76056±0.03776 |  57.86639±8.78371 | 73.72771±11.11411 |  63.48319±4.22060 |  55.96972±7.20797 |   40.51405±10.93578   |         5.72036±1.53816         |\n",
      "|   fold1   | 99.69827±0.11002 | 34.30394±19.17338 | 47.83787±24.64446 | 36.96897±18.86222 | 35.77309±18.09739 |   86.51272±57.24142   |         12.49610±7.93573        |\n",
      "|   fold2   | 99.69379±0.10952 | 58.00339±16.52048 | 62.05287±10.04933 |  57.72472±9.32513 | 49.85326±13.32322 |   35.72565±14.34575   |         5.44798±2.24085         |\n",
      "|   fold3   | 99.64661±0.10600 | 51.40282±13.19100 | 72.01638±11.04078 |  57.79976±7.32572 |  52.26965±2.06009 |    47.27843±4.89646   |         6.31233±0.77228         |\n",
      "|  fold avg | 99.69981±0.04049 |  50.39413±9.66498 | 63.90871±10.29397 | 53.99416±10.10320 |  48.46643±7.64539 |   52.50771±20.05724   |         7.49420±2.90471         |\n",
      "+-----------+------------------+-------------------+-------------------+-------------------+-------------------+-----------------------+---------------------------------+\n",
      "save successfully!\n"
     ]
    },
    {
     "name": "stderr",
     "output_type": "stream",
     "text": [
      "\n"
     ]
    }
   ],
   "source": [
    "task_name = 'vnet'\n",
    "seg_dir = '/root/workspace/data/train_models/Task002/'+task_name\n",
    "label_dir = '/root/workspace/work/nnUNetFrame/DATASET/nnUNet_raw/nnUNet_raw_data/Task002_PortalVein/labelsTr'\n",
    "fold_list = [0,1,2,3]\n",
    "result,tb = evaluate(seg_dir,label_dir,fold_list,True)\n",
    "print(tb)\n",
    "tb_write_csv(os.path.join(seg_dir,task_name),tb)"
   ]
  },
  {
   "attachments": {},
   "cell_type": "markdown",
   "metadata": {},
   "source": [
    "## nnUnet"
   ]
  },
  {
   "cell_type": "code",
   "execution_count": 5,
   "metadata": {},
   "outputs": [
    {
     "name": "stderr",
     "output_type": "stream",
     "text": [
      "100%|██████████| 6/6 [00:48<00:00,  8.15s/it]\n",
      "100%|██████████| 6/6 [00:38<00:00,  6.36s/it]\n",
      "100%|██████████| 6/6 [00:31<00:00,  5.20s/it]\n",
      "100%|██████████| 6/6 [00:30<00:00,  5.00s/it]"
     ]
    },
    {
     "name": "stdout",
     "output_type": "stream",
     "text": [
      "+-----------+------------------+-------------------+-------------------+-------------------+-------------------+-----------------------+---------------------------------+\n",
      "| Fold Name |     Accuracy     |     Precision     |       Recall      |        Dice       |       clDice      | Hausdorff Distance 95 | Avg. Symmetric Surface Distance |\n",
      "+-----------+------------------+-------------------+-------------------+-------------------+-------------------+-----------------------+---------------------------------+\n",
      "|   fold0   | 99.84121±0.03328 | 80.54269±10.81842 | 61.22125±10.20786 |  68.43669±5.62146 |  66.03686±7.54262 |    25.54376±9.45033   |         3.56967±1.15100         |\n",
      "|   fold1   | 99.83103±0.04881 | 70.65796±18.99383 | 57.37860±22.30424 | 57.07624±11.28648 | 56.78740±11.58896 |   57.92913±65.26436   |         6.53217±4.54025         |\n",
      "|   fold2   | 99.81636±0.06319 |  82.68577±7.87960 |  59.38831±7.79213 |  68.52262±5.30610 |  67.36354±8.75368 |   24.81834±19.08239   |         3.80258±2.23812         |\n",
      "|   fold3   | 99.78202±0.05817 | 73.03758±18.65418 | 67.26911±10.93544 |  67.18829±5.51393 |  65.83592±3.76122 |   32.68263±14.33234   |         4.18825±1.69895         |\n",
      "|  fold avg | 99.81765±0.02239 |  76.73100±5.01277 |  61.31432±3.69688 |  65.30596±4.78068 |  64.00593±4.20875 |   35.24346±13.45330   |         4.52317±1.18075         |\n",
      "+-----------+------------------+-------------------+-------------------+-------------------+-------------------+-----------------------+---------------------------------+\n",
      "save successfully!\n"
     ]
    },
    {
     "name": "stderr",
     "output_type": "stream",
     "text": [
      "\n"
     ]
    }
   ],
   "source": [
    "task_name = 'nnUnet'\n",
    "seg_dir = '/root/workspace/work/nnUNetFrame/DATASET/nnUNet_raw/nnUNet_raw_data/Task002_PortalVein/infer'\n",
    "label_dir = '/root/workspace/work/nnUNetFrame/DATASET/nnUNet_raw/nnUNet_raw_data/Task002_PortalVein/labelsTr'\n",
    "fold_list = [0,1,2,3]\n",
    "result,tb = evaluate(seg_dir,label_dir,fold_list,True)\n",
    "print(tb)\n",
    "tb_write_csv(os.path.join(seg_dir,task_name),tb)"
   ]
  },
  {
   "attachments": {},
   "cell_type": "markdown",
   "metadata": {},
   "source": [
    "## DC_modal"
   ]
  },
  {
   "cell_type": "code",
   "execution_count": 7,
   "metadata": {},
   "outputs": [
    {
     "name": "stderr",
     "output_type": "stream",
     "text": [
      "100%|██████████| 6/6 [00:48<00:00,  8.08s/it]\n",
      "100%|██████████| 6/6 [00:38<00:00,  6.43s/it]\n",
      "100%|██████████| 6/6 [00:30<00:00,  5.07s/it]\n",
      "100%|██████████| 6/6 [00:30<00:00,  5.02s/it]"
     ]
    },
    {
     "name": "stdout",
     "output_type": "stream",
     "text": [
      "+-----------+------------------+-------------------+-------------------+-------------------+-------------------+-----------------------+---------------------------------+\n",
      "| Fold Name |     Accuracy     |     Precision     |       Recall      |        Dice       |       clDice      | Hausdorff Distance 95 | Avg. Symmetric Surface Distance |\n",
      "+-----------+------------------+-------------------+-------------------+-------------------+-------------------+-----------------------+---------------------------------+\n",
      "|   fold0   | 99.84148±0.03581 | 79.82149±11.07151 | 62.91831±11.94457 |  68.91005±6.48711 |  67.13004±8.04597 |    23.07382±8.01537   |         3.24158±0.96311         |\n",
      "|   fold1   | 99.84021±0.04928 | 73.94813±17.20588 | 56.60179±23.45339 | 57.76239±13.39568 | 56.89644±13.49086 |   57.96264±58.08611   |         6.13938±4.03597         |\n",
      "|   fold2   | 99.81949±0.06388 |  83.33068±8.23266 |  59.83153±8.31777 |  69.05226±5.86465 |  68.31479±7.12220 |   23.21433±16.75002   |         3.48807±2.20247         |\n",
      "|   fold3   | 99.78306±0.05852 | 73.19912±18.90788 | 68.36706±11.38207 |  67.63654±5.40029 |  66.87362±3.68072 |   32.16470±15.56395   |         3.93072±1.80751         |\n",
      "|  fold avg | 99.82106±0.02361 |  77.57485±4.19753 |  61.92967±4.33606 |  65.84031±4.69625 |  64.80372±4.59753 |   34.10387±14.25873   |         4.19994±1.14664         |\n",
      "+-----------+------------------+-------------------+-------------------+-------------------+-------------------+-----------------------+---------------------------------+\n",
      "save successfully!\n"
     ]
    },
    {
     "name": "stderr",
     "output_type": "stream",
     "text": [
      "\n"
     ]
    }
   ],
   "source": [
    "task_name = 'DC_modal'\n",
    "seg_dir = '/root/workspace/work/nnUNetFrame/DATASET/nnUNet_raw/nnUNet_raw_data/Task002_PortalVein/infer2'\n",
    "label_dir = '/root/workspace/work/nnUNetFrame/DATASET/nnUNet_raw/nnUNet_raw_data/Task002_PortalVein/labelsTr'\n",
    "fold_list = [0,1,2,3]\n",
    "result,tb = evaluate(seg_dir,label_dir,fold_list,True)\n",
    "print(tb)\n",
    "tb_write_csv(os.path.join(seg_dir,task_name),tb)"
   ]
  }
 ],
 "metadata": {
  "kernelspec": {
   "display_name": "Python 3",
   "language": "python",
   "name": "python3"
  },
  "language_info": {
   "codemirror_mode": {
    "name": "ipython",
    "version": 3
   },
   "file_extension": ".py",
   "mimetype": "text/x-python",
   "name": "python",
   "nbconvert_exporter": "python",
   "pygments_lexer": "ipython3",
   "version": "3.8.6"
  },
  "orig_nbformat": 4,
  "vscode": {
   "interpreter": {
    "hash": "35eb882e6c79c2fb72bcb2efe18c0fb285ab95602cefe2c5e3178fef86aa3293"
   }
  }
 },
 "nbformat": 4,
 "nbformat_minor": 2
}
