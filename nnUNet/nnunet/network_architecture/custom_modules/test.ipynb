{
 "cells": [
  {
   "cell_type": "code",
   "execution_count": 52,
   "metadata": {},
   "outputs": [],
   "source": [
    "import torch\n",
    "import torch.nn.functional as F\n",
    "import math\n",
    "from torch import nn\n",
    "\n",
    "\n",
    "class GCT(nn.Module):\n",
    "\n",
    "    def __init__(self, num_channels, epsilon=1e-5, mode='l2', after_relu=False):\n",
    "        super(GCT, self).__init__()\n",
    "\n",
    "        self.alpha = nn.Parameter(torch.ones(1, num_channels, 1, 1, 1))\n",
    "        self.gamma = nn.Parameter(torch.zeros(1, num_channels, 1, 1, 1))\n",
    "        self.beta = nn.Parameter(torch.zeros(1, num_channels, 1, 1, 1))\n",
    "        self.epsilon = epsilon\n",
    "        self.mode = mode\n",
    "        self.after_relu = after_relu\n",
    "        self.num_channels = num_channels\n",
    "\n",
    "    def forward(self, x):\n",
    "        shape = x.shape\n",
    "        if self.mode == 'l2':\n",
    "            embedding = (x.pow(2).sum((2,3,4), keepdim=True) + self.epsilon).pow(0.5) * self.alpha\n",
    "            norm = self.gamma / (embedding.pow(2).mean(dim=1, keepdim=True) + self.epsilon).pow(0.5)\n",
    "            \n",
    "        elif self.mode == 'l1':\n",
    "            if not self.after_relu:\n",
    "                _x = torch.abs(x)\n",
    "            else:\n",
    "                _x = x\n",
    "            embedding = _x.sum((2,3,4), keepdim=True) * self.alpha\n",
    "            norm = self.gamma / (torch.abs(embedding).mean(dim=1, keepdim=True) + self.epsilon)\n",
    "        else:\n",
    "            print('Unknown mode!')\n",
    "            sys.exit()\n",
    "\n",
    "        embedding = embedding * norm + self.beta\n",
    "        gate = torch.softmax(embedding.view([2,shape[0],self.num_channels,1,1,1]),0)\n",
    "\n",
    "        return gate"
   ]
  },
  {
   "cell_type": "code",
   "execution_count": 50,
   "metadata": {},
   "outputs": [],
   "source": [
    "x = torch.rand([1, 4, 1, 1, 1])\n",
    "x = x.view([2,1,4,1,1,1])\n",
    "gateX = torch.softmax(x,0)"
   ]
  },
  {
   "cell_type": "code",
   "execution_count": null,
   "metadata": {},
   "outputs": [],
   "source": []
  }
 ],
 "metadata": {
  "kernelspec": {
   "display_name": "Python 3",
   "language": "python",
   "name": "python3"
  },
  "language_info": {
   "codemirror_mode": {
    "name": "ipython",
    "version": 3
   },
   "file_extension": ".py",
   "mimetype": "text/x-python",
   "name": "python",
   "nbconvert_exporter": "python",
   "pygments_lexer": "ipython3",
   "version": "3.8.6"
  },
  "orig_nbformat": 4,
  "vscode": {
   "interpreter": {
    "hash": "35eb882e6c79c2fb72bcb2efe18c0fb285ab95602cefe2c5e3178fef86aa3293"
   }
  }
 },
 "nbformat": 4,
 "nbformat_minor": 2
}
