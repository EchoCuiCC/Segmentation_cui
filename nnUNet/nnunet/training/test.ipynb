{
 "cells": [
  {
   "cell_type": "code",
   "execution_count": 30,
   "metadata": {},
   "outputs": [],
   "source": [
    "import torch\n",
    "import torch.nn.functional as F\n",
    "import numpy as np\n",
    "from torch import nn"
   ]
  },
  {
   "cell_type": "code",
   "execution_count": 77,
   "metadata": {},
   "outputs": [
    {
     "name": "stdout",
     "output_type": "stream",
     "text": [
      "tensor([[0.4416, 0.2722, 0.2862],\n",
      "        [0.3499, 0.3231, 0.3269]], grad_fn=<SoftmaxBackward>)\n",
      "tensor([[0.3314, 0.3961, 0.2724],\n",
      "        [0.4236, 0.3328, 0.2437]], grad_fn=<SoftmaxBackward>)\n"
     ]
    }
   ],
   "source": [
    "input_size = np.array([64,128,128], dtype=int).prod()\n",
    "num_experts = 3\n",
    "task_name = ['seg','centerline']\n",
    "gate_specific = nn.ModuleDict({task: nn.Sequential(nn.Linear(input_size, num_experts),\n",
    "                                                                nn.Softmax(dim=-1)) for task in task_name})\n",
    "\n",
    "out = {}\n",
    "for task in task_name:\n",
    "    inputs=torch.rand([2,64,128,128])\n",
    "    experts_shared_rep = torch.rand([3,2,320,8,8])\n",
    "    selector = gate_specific[task](torch.flatten(inputs, start_dim=1)) \n",
    "    gate_rep = torch.einsum('ij..., ji -> j...', experts_shared_rep, selector)\n",
    "    gate_rep.requires_grad = True\n",
    "    out[task] = self.decoders[task](gate_rep)"
   ]
  }
 ],
 "metadata": {
  "kernelspec": {
   "display_name": "Python 3",
   "language": "python",
   "name": "python3"
  },
  "language_info": {
   "codemirror_mode": {
    "name": "ipython",
    "version": 3
   },
   "file_extension": ".py",
   "mimetype": "text/x-python",
   "name": "python",
   "nbconvert_exporter": "python",
   "pygments_lexer": "ipython3",
   "version": "3.8.6 (default, Dec 25 2020, 16:15:32) \n[GCC 7.5.0]"
  },
  "orig_nbformat": 4,
  "vscode": {
   "interpreter": {
    "hash": "35eb882e6c79c2fb72bcb2efe18c0fb285ab95602cefe2c5e3178fef86aa3293"
   }
  }
 },
 "nbformat": 4,
 "nbformat_minor": 2
}
